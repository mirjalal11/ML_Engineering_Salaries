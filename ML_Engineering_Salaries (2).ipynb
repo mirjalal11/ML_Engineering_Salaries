{
  "cells": [
    {
      "cell_type": "markdown",
      "id": "c7b77c59-1c4b-41ae-b308-68f9558de255",
      "metadata": {
        "id": "c7b77c59-1c4b-41ae-b308-68f9558de255"
      },
      "source": [
        "[![open in Colab](https://colab.research.google.com/assets/colab-badge.svg)](https://colab.research.google.com/github/legendd4/ML-Engineering-Salaries)"
      ]
    },
    {
      "cell_type": "markdown",
      "source": [
        "<div class=\"alert alert-block alert-info\">\n",
        "    <p> <b>About this Data set:</b> </p> This dataset represents salary information for machine learning engineers, It includes details such as employment type, gender, age, job title, salary amount, company location, This information allows for analysis of salary trends, employment patterns, and other factors affecting machine learning engineer salaries in various locations and company settings.\n",
        "    <p><b><i></i></b></p>\n",
        "</div>"
      ],
      "metadata": {
        "id": "yb2HMIeKK0Pn"
      },
      "id": "yb2HMIeKK0Pn"
    },
    {
      "cell_type": "markdown",
      "id": "e62389e1-3fff-4672-9712-497e80999ee2",
      "metadata": {
        "id": "e62389e1-3fff-4672-9712-497e80999ee2"
      },
      "source": [
        "<div class=\"alert alert-block alert-warning\">\n",
        "    <p><b>Company Location:</b></p> GE:Great British, US:United State, CA:Canada, DK:Denmark, NL:Netherland, IN:India, ES:Spain, LV:Latvia, DE:Germany, IT:Italy, AD:Andorra, FR:France, MX:Micronesia.\n",
        "</div>"
      ]
    },
    {
      "cell_type": "code",
      "execution_count": null,
      "id": "c520c7e5-def8-4c20-894d-e3ddfcf0dace",
      "metadata": {
        "id": "c520c7e5-def8-4c20-894d-e3ddfcf0dace"
      },
      "outputs": [],
      "source": [
        "# # Load the necessary packages\n",
        "import pandas as pd  #to upload the file of the data set.\n",
        "import numpy as np  #math equation, random numbers, array.\n",
        "import scipy.stats as st #probability distribution, mean, median, mode.\n",
        "import matplotlib.pyplot as plt #for images\n",
        "import seaborn as sns # for colors"
      ]
    },
    {
      "cell_type": "code",
      "execution_count": null,
      "id": "041db814-e8f9-4d87-87c9-7b8b66c1adb4",
      "metadata": {
        "id": "041db814-e8f9-4d87-87c9-7b8b66c1adb4"
      },
      "outputs": [],
      "source": [
        "mydata = pd.read_csv('salaries.csv')  #to read the data set csv file."
      ]
    },
    {
      "cell_type": "code",
      "execution_count": null,
      "id": "6601ba89-d297-4fe1-a660-c1a3d7dbd54e",
      "metadata": {
        "id": "6601ba89-d297-4fe1-a660-c1a3d7dbd54e",
        "outputId": "2148f703-b4ab-4db9-822c-50da8a9dc1cd"
      },
      "outputs": [
        {
          "data": {
            "text/html": [
              "<div>\n",
              "<style scoped>\n",
              "    .dataframe tbody tr th:only-of-type {\n",
              "        vertical-align: middle;\n",
              "    }\n",
              "\n",
              "    .dataframe tbody tr th {\n",
              "        vertical-align: top;\n",
              "    }\n",
              "\n",
              "    .dataframe thead th {\n",
              "        text-align: right;\n",
              "    }\n",
              "</style>\n",
              "<table border=\"1\" class=\"dataframe\">\n",
              "  <thead>\n",
              "    <tr style=\"text-align: right;\">\n",
              "      <th></th>\n",
              "      <th>work_year</th>\n",
              "      <th>employment_type</th>\n",
              "      <th>job_title</th>\n",
              "      <th>Gender</th>\n",
              "      <th>age</th>\n",
              "      <th>salary_in_usd</th>\n",
              "      <th>company_location</th>\n",
              "    </tr>\n",
              "  </thead>\n",
              "  <tbody>\n",
              "    <tr>\n",
              "      <th>0</th>\n",
              "      <td>2024</td>\n",
              "      <td>FT</td>\n",
              "      <td>Data Specialist</td>\n",
              "      <td>male</td>\n",
              "      <td>32</td>\n",
              "      <td>57008</td>\n",
              "      <td>GB</td>\n",
              "    </tr>\n",
              "    <tr>\n",
              "      <th>1</th>\n",
              "      <td>2024</td>\n",
              "      <td>FT</td>\n",
              "      <td>Data Specialist</td>\n",
              "      <td>male</td>\n",
              "      <td>29</td>\n",
              "      <td>38651</td>\n",
              "      <td>GB</td>\n",
              "    </tr>\n",
              "    <tr>\n",
              "      <th>2</th>\n",
              "      <td>2024</td>\n",
              "      <td>FT</td>\n",
              "      <td>Data Analyst</td>\n",
              "      <td>male</td>\n",
              "      <td>43</td>\n",
              "      <td>68750</td>\n",
              "      <td>GB</td>\n",
              "    </tr>\n",
              "    <tr>\n",
              "      <th>3</th>\n",
              "      <td>2024</td>\n",
              "      <td>FT</td>\n",
              "      <td>Data Analyst</td>\n",
              "      <td>male</td>\n",
              "      <td>34</td>\n",
              "      <td>56250</td>\n",
              "      <td>GB</td>\n",
              "    </tr>\n",
              "    <tr>\n",
              "      <th>4</th>\n",
              "      <td>2024</td>\n",
              "      <td>FT</td>\n",
              "      <td>Business Intelligence Lead</td>\n",
              "      <td>male</td>\n",
              "      <td>38</td>\n",
              "      <td>144300</td>\n",
              "      <td>US</td>\n",
              "    </tr>\n",
              "    <tr>\n",
              "      <th>5</th>\n",
              "      <td>2024</td>\n",
              "      <td>FT</td>\n",
              "      <td>Business Intelligence Lead</td>\n",
              "      <td>male</td>\n",
              "      <td>27</td>\n",
              "      <td>104800</td>\n",
              "      <td>US</td>\n",
              "    </tr>\n",
              "    <tr>\n",
              "      <th>6</th>\n",
              "      <td>2024</td>\n",
              "      <td>FT</td>\n",
              "      <td>Data Engineer</td>\n",
              "      <td>male</td>\n",
              "      <td>46</td>\n",
              "      <td>212750</td>\n",
              "      <td>US</td>\n",
              "    </tr>\n",
              "  </tbody>\n",
              "</table>\n",
              "</div>"
            ],
            "text/plain": [
              "   work_year employment_type                   job_title Gender  age  \\\n",
              "0       2024              FT             Data Specialist   male   32   \n",
              "1       2024              FT             Data Specialist   male   29   \n",
              "2       2024              FT                Data Analyst   male   43   \n",
              "3       2024              FT                Data Analyst   male   34   \n",
              "4       2024              FT  Business Intelligence Lead   male   38   \n",
              "5       2024              FT  Business Intelligence Lead   male   27   \n",
              "6       2024              FT               Data Engineer   male   46   \n",
              "\n",
              "   salary_in_usd company_location  \n",
              "0          57008               GB  \n",
              "1          38651               GB  \n",
              "2          68750               GB  \n",
              "3          56250               GB  \n",
              "4         144300               US  \n",
              "5         104800               US  \n",
              "6         212750               US  "
            ]
          },
          "execution_count": 175,
          "metadata": {},
          "output_type": "execute_result"
        }
      ],
      "source": [
        "mydata.head(7)"
      ]
    },
    {
      "cell_type": "code",
      "execution_count": null,
      "id": "bd4abc26-73be-49db-95ba-02ae2e428d86",
      "metadata": {
        "id": "bd4abc26-73be-49db-95ba-02ae2e428d86",
        "outputId": "ef91a953-e7da-4021-8158-399f26fc389b"
      },
      "outputs": [
        {
          "data": {
            "text/html": [
              "<div>\n",
              "<style scoped>\n",
              "    .dataframe tbody tr th:only-of-type {\n",
              "        vertical-align: middle;\n",
              "    }\n",
              "\n",
              "    .dataframe tbody tr th {\n",
              "        vertical-align: top;\n",
              "    }\n",
              "\n",
              "    .dataframe thead th {\n",
              "        text-align: right;\n",
              "    }\n",
              "</style>\n",
              "<table border=\"1\" class=\"dataframe\">\n",
              "  <thead>\n",
              "    <tr style=\"text-align: right;\">\n",
              "      <th></th>\n",
              "      <th>work_year</th>\n",
              "      <th>employment_type</th>\n",
              "      <th>job_title</th>\n",
              "      <th>Gender</th>\n",
              "      <th>age</th>\n",
              "      <th>salary_in_usd</th>\n",
              "      <th>company_location</th>\n",
              "    </tr>\n",
              "  </thead>\n",
              "  <tbody>\n",
              "    <tr>\n",
              "      <th>887</th>\n",
              "      <td>2022</td>\n",
              "      <td>FT</td>\n",
              "      <td>Data Scientist</td>\n",
              "      <td>male</td>\n",
              "      <td>36</td>\n",
              "      <td>179400</td>\n",
              "      <td>US</td>\n",
              "    </tr>\n",
              "    <tr>\n",
              "      <th>888</th>\n",
              "      <td>2022</td>\n",
              "      <td>FT</td>\n",
              "      <td>Data Scientist</td>\n",
              "      <td>male</td>\n",
              "      <td>46</td>\n",
              "      <td>154000</td>\n",
              "      <td>US</td>\n",
              "    </tr>\n",
              "    <tr>\n",
              "      <th>889</th>\n",
              "      <td>2020</td>\n",
              "      <td>FT</td>\n",
              "      <td>Data Scientist</td>\n",
              "      <td>male</td>\n",
              "      <td>35</td>\n",
              "      <td>412000</td>\n",
              "      <td>US</td>\n",
              "    </tr>\n",
              "    <tr>\n",
              "      <th>890</th>\n",
              "      <td>2021</td>\n",
              "      <td>FT</td>\n",
              "      <td>Principal Data Scientist</td>\n",
              "      <td>male</td>\n",
              "      <td>28</td>\n",
              "      <td>151000</td>\n",
              "      <td>US</td>\n",
              "    </tr>\n",
              "    <tr>\n",
              "      <th>891</th>\n",
              "      <td>2020</td>\n",
              "      <td>FT</td>\n",
              "      <td>Data Scientist</td>\n",
              "      <td>male</td>\n",
              "      <td>34</td>\n",
              "      <td>105000</td>\n",
              "      <td>US</td>\n",
              "    </tr>\n",
              "    <tr>\n",
              "      <th>892</th>\n",
              "      <td>2020</td>\n",
              "      <td>PT</td>\n",
              "      <td>Business Data Analyst</td>\n",
              "      <td>female</td>\n",
              "      <td>52</td>\n",
              "      <td>100000</td>\n",
              "      <td>US</td>\n",
              "    </tr>\n",
              "    <tr>\n",
              "      <th>893</th>\n",
              "      <td>2021</td>\n",
              "      <td>FT</td>\n",
              "      <td>Data Science Manager</td>\n",
              "      <td>male</td>\n",
              "      <td>48</td>\n",
              "      <td>94665</td>\n",
              "      <td>IN</td>\n",
              "    </tr>\n",
              "  </tbody>\n",
              "</table>\n",
              "</div>"
            ],
            "text/plain": [
              "     work_year employment_type                 job_title  Gender  age  \\\n",
              "887       2022              FT            Data Scientist    male   36   \n",
              "888       2022              FT            Data Scientist    male   46   \n",
              "889       2020              FT            Data Scientist    male   35   \n",
              "890       2021              FT  Principal Data Scientist    male   28   \n",
              "891       2020              FT            Data Scientist    male   34   \n",
              "892       2020              PT     Business Data Analyst  female   52   \n",
              "893       2021              FT      Data Science Manager    male   48   \n",
              "\n",
              "     salary_in_usd company_location  \n",
              "887         179400               US  \n",
              "888         154000               US  \n",
              "889         412000               US  \n",
              "890         151000               US  \n",
              "891         105000               US  \n",
              "892         100000               US  \n",
              "893          94665               IN  "
            ]
          },
          "execution_count": 176,
          "metadata": {},
          "output_type": "execute_result"
        }
      ],
      "source": [
        "mydata.tail(7)"
      ]
    },
    {
      "cell_type": "code",
      "execution_count": null,
      "id": "a08b25a8-bdd4-46a5-ae86-402b18bcea2c",
      "metadata": {
        "id": "a08b25a8-bdd4-46a5-ae86-402b18bcea2c",
        "outputId": "d8015e84-3e9c-4761-80ba-30714a8b85ad"
      },
      "outputs": [
        {
          "name": "stdout",
          "output_type": "stream",
          "text": [
            "<class 'pandas.core.frame.DataFrame'>\n",
            "RangeIndex: 894 entries, 0 to 893\n",
            "Data columns (total 7 columns):\n",
            " #   Column            Non-Null Count  Dtype \n",
            "---  ------            --------------  ----- \n",
            " 0   work_year         894 non-null    int64 \n",
            " 1   employment_type   894 non-null    object\n",
            " 2   job_title         894 non-null    object\n",
            " 3   Gender            894 non-null    object\n",
            " 4   age               894 non-null    int64 \n",
            " 5   salary_in_usd     894 non-null    int64 \n",
            " 6   company_location  894 non-null    object\n",
            "dtypes: int64(3), object(4)\n",
            "memory usage: 49.0+ KB\n"
          ]
        }
      ],
      "source": [
        "mydata.info()"
      ]
    },
    {
      "cell_type": "code",
      "execution_count": null,
      "id": "63fdeb46-fc4e-4c91-8028-13b68d3b4370",
      "metadata": {
        "id": "63fdeb46-fc4e-4c91-8028-13b68d3b4370",
        "outputId": "47347066-8bc8-4f53-8442-74f21120612e"
      },
      "outputs": [
        {
          "data": {
            "text/html": [
              "<div>\n",
              "<style scoped>\n",
              "    .dataframe tbody tr th:only-of-type {\n",
              "        vertical-align: middle;\n",
              "    }\n",
              "\n",
              "    .dataframe tbody tr th {\n",
              "        vertical-align: top;\n",
              "    }\n",
              "\n",
              "    .dataframe thead th {\n",
              "        text-align: right;\n",
              "    }\n",
              "</style>\n",
              "<table border=\"1\" class=\"dataframe\">\n",
              "  <thead>\n",
              "    <tr style=\"text-align: right;\">\n",
              "      <th></th>\n",
              "      <th>work_year</th>\n",
              "      <th>age</th>\n",
              "      <th>salary_in_usd</th>\n",
              "    </tr>\n",
              "  </thead>\n",
              "  <tbody>\n",
              "    <tr>\n",
              "      <th>count</th>\n",
              "      <td>894.000000</td>\n",
              "      <td>894.000000</td>\n",
              "      <td>894.000000</td>\n",
              "    </tr>\n",
              "    <tr>\n",
              "      <th>mean</th>\n",
              "      <td>2023.061521</td>\n",
              "      <td>39.756152</td>\n",
              "      <td>156127.996644</td>\n",
              "    </tr>\n",
              "    <tr>\n",
              "      <th>std</th>\n",
              "      <td>0.511477</td>\n",
              "      <td>17.970700</td>\n",
              "      <td>67937.965970</td>\n",
              "    </tr>\n",
              "    <tr>\n",
              "      <th>min</th>\n",
              "      <td>2020.000000</td>\n",
              "      <td>26.000000</td>\n",
              "      <td>15000.000000</td>\n",
              "    </tr>\n",
              "    <tr>\n",
              "      <th>25%</th>\n",
              "      <td>2023.000000</td>\n",
              "      <td>33.000000</td>\n",
              "      <td>108077.000000</td>\n",
              "    </tr>\n",
              "    <tr>\n",
              "      <th>50%</th>\n",
              "      <td>2023.000000</td>\n",
              "      <td>39.000000</td>\n",
              "      <td>145000.000000</td>\n",
              "    </tr>\n",
              "    <tr>\n",
              "      <th>75%</th>\n",
              "      <td>2023.000000</td>\n",
              "      <td>45.000000</td>\n",
              "      <td>198225.000000</td>\n",
              "    </tr>\n",
              "    <tr>\n",
              "      <th>max</th>\n",
              "      <td>2024.000000</td>\n",
              "      <td>527.000000</td>\n",
              "      <td>412000.000000</td>\n",
              "    </tr>\n",
              "  </tbody>\n",
              "</table>\n",
              "</div>"
            ],
            "text/plain": [
              "         work_year         age  salary_in_usd\n",
              "count   894.000000  894.000000     894.000000\n",
              "mean   2023.061521   39.756152  156127.996644\n",
              "std       0.511477   17.970700   67937.965970\n",
              "min    2020.000000   26.000000   15000.000000\n",
              "25%    2023.000000   33.000000  108077.000000\n",
              "50%    2023.000000   39.000000  145000.000000\n",
              "75%    2023.000000   45.000000  198225.000000\n",
              "max    2024.000000  527.000000  412000.000000"
            ]
          },
          "execution_count": 178,
          "metadata": {},
          "output_type": "execute_result"
        }
      ],
      "source": [
        "mydata.describe()"
      ]
    },
    {
      "cell_type": "code",
      "execution_count": null,
      "id": "68c14959-71a2-4974-86d8-3c09fdba5b68",
      "metadata": {
        "id": "68c14959-71a2-4974-86d8-3c09fdba5b68",
        "outputId": "ce2432ef-38ef-4543-a8ce-385c18960b13"
      },
      "outputs": [
        {
          "data": {
            "image/png": "[encoded data removed]",
            "text/plain": [
              "<Figure size 2000x3000 with 4 Axes>"
            ]
          },
          "metadata": {},
          "output_type": "display_data"
        }
      ],
      "source": [
        "mydata.hist(figsize=(20,30))\n",
        "plt.show()"
      ]
    },
    {
      "cell_type": "code",
      "execution_count": null,
      "id": "80ddeb4e-d986-4c17-a4e5-054ee34e6083",
      "metadata": {
        "id": "80ddeb4e-d986-4c17-a4e5-054ee34e6083",
        "outputId": "1c6c46a9-6bb0-4442-8ae4-7bab0363dd10"
      },
      "outputs": [
        {
          "data": {
            "image/png": "[encoded data removed]",
            "text/plain": [
              "<Figure size 1000x1000 with 1 Axes>"
            ]
          },
          "metadata": {},
          "output_type": "display_data"
        }
      ],
      "source": [
        "mydata.hist(['salary_in_usd'], figsize=(10,10))\n",
        "plt.show()"
      ]
    },
    {
      "cell_type": "code",
      "execution_count": null,
      "id": "0618105c-291f-4e6b-8e9e-321d3a08d9a7",
      "metadata": {
        "id": "0618105c-291f-4e6b-8e9e-321d3a08d9a7",
        "outputId": "56468897-3812-427a-ddca-0d7cfcdea091"
      },
      "outputs": [
        {
          "data": {
            "text/plain": [
              "(20.0, 70.0)"
            ]
          },
          "execution_count": 181,
          "metadata": {},
          "output_type": "execute_result"
        },
        {
          "data": {
            "image/png": "[encoded data removed]",
            "text/plain": [
              "<Figure size 640x480 with 1 Axes>"
            ]
          },
          "metadata": {},
          "output_type": "display_data"
        }
      ],
      "source": [
        "sns.boxplot(x=\"Gender\", y=\"age\", data=mydata)\n",
        "plt.ylim(20, 70)"
      ]
    },
    {
      "cell_type": "code",
      "execution_count": null,
      "id": "7597c529-6a93-43ea-83ef-01dc56e5d72b",
      "metadata": {
        "id": "7597c529-6a93-43ea-83ef-01dc56e5d72b",
        "outputId": "e9ecd104-3427-492f-fad4-495b0cb8ac2e"
      },
      "outputs": [
        {
          "data": {
            "text/html": [
              "<div>\n",
              "<style scoped>\n",
              "    .dataframe tbody tr th:only-of-type {\n",
              "        vertical-align: middle;\n",
              "    }\n",
              "\n",
              "    .dataframe tbody tr th {\n",
              "        vertical-align: top;\n",
              "    }\n",
              "\n",
              "    .dataframe thead th {\n",
              "        text-align: right;\n",
              "    }\n",
              "</style>\n",
              "<table border=\"1\" class=\"dataframe\">\n",
              "  <thead>\n",
              "    <tr style=\"text-align: right;\">\n",
              "      <th>Gender</th>\n",
              "      <th>female</th>\n",
              "      <th>male</th>\n",
              "    </tr>\n",
              "    <tr>\n",
              "      <th>salary_in_usd</th>\n",
              "      <th></th>\n",
              "      <th></th>\n",
              "    </tr>\n",
              "  </thead>\n",
              "  <tbody>\n",
              "    <tr>\n",
              "      <th>15000</th>\n",
              "      <td>0</td>\n",
              "      <td>1</td>\n",
              "    </tr>\n",
              "    <tr>\n",
              "      <th>16000</th>\n",
              "      <td>0</td>\n",
              "      <td>1</td>\n",
              "    </tr>\n",
              "    <tr>\n",
              "      <th>18000</th>\n",
              "      <td>0</td>\n",
              "      <td>1</td>\n",
              "    </tr>\n",
              "    <tr>\n",
              "      <th>20000</th>\n",
              "      <td>1</td>\n",
              "      <td>1</td>\n",
              "    </tr>\n",
              "    <tr>\n",
              "      <th>22892</th>\n",
              "      <td>0</td>\n",
              "      <td>1</td>\n",
              "    </tr>\n",
              "    <tr>\n",
              "      <th>...</th>\n",
              "      <td>...</td>\n",
              "      <td>...</td>\n",
              "    </tr>\n",
              "    <tr>\n",
              "      <th>360000</th>\n",
              "      <td>0</td>\n",
              "      <td>1</td>\n",
              "    </tr>\n",
              "    <tr>\n",
              "      <th>369120</th>\n",
              "      <td>0</td>\n",
              "      <td>2</td>\n",
              "    </tr>\n",
              "    <tr>\n",
              "      <th>370000</th>\n",
              "      <td>0</td>\n",
              "      <td>1</td>\n",
              "    </tr>\n",
              "    <tr>\n",
              "      <th>385000</th>\n",
              "      <td>0</td>\n",
              "      <td>2</td>\n",
              "    </tr>\n",
              "    <tr>\n",
              "      <th>412000</th>\n",
              "      <td>0</td>\n",
              "      <td>1</td>\n",
              "    </tr>\n",
              "  </tbody>\n",
              "</table>\n",
              "<p>439 rows × 2 columns</p>\n",
              "</div>"
            ],
            "text/plain": [
              "Gender         female  male\n",
              "salary_in_usd              \n",
              "15000               0     1\n",
              "16000               0     1\n",
              "18000               0     1\n",
              "20000               1     1\n",
              "22892               0     1\n",
              "...               ...   ...\n",
              "360000              0     1\n",
              "369120              0     2\n",
              "370000              0     1\n",
              "385000              0     2\n",
              "412000              0     1\n",
              "\n",
              "[439 rows x 2 columns]"
            ]
          },
          "execution_count": 182,
          "metadata": {},
          "output_type": "execute_result"
        }
      ],
      "source": [
        "pd.crosstab(mydata['salary_in_usd'],mydata['Gender'] )"
      ]
    },
    {
      "cell_type": "code",
      "execution_count": null,
      "id": "49f0ae7f-c684-4222-af51-f126b968a262",
      "metadata": {
        "id": "49f0ae7f-c684-4222-af51-f126b968a262",
        "outputId": "5e7b7f3d-8cc5-484c-af6f-c8835f35bc32"
      },
      "outputs": [
        {
          "data": {
            "text/html": [
              "<div>\n",
              "<style scoped>\n",
              "    .dataframe tbody tr th:only-of-type {\n",
              "        vertical-align: middle;\n",
              "    }\n",
              "\n",
              "    .dataframe tbody tr th {\n",
              "        vertical-align: top;\n",
              "    }\n",
              "\n",
              "    .dataframe thead th {\n",
              "        text-align: right;\n",
              "    }\n",
              "</style>\n",
              "<table border=\"1\" class=\"dataframe\">\n",
              "  <thead>\n",
              "    <tr style=\"text-align: right;\">\n",
              "      <th>work_year</th>\n",
              "      <th>2020</th>\n",
              "      <th>2021</th>\n",
              "      <th>2022</th>\n",
              "      <th>2023</th>\n",
              "      <th>2024</th>\n",
              "    </tr>\n",
              "    <tr>\n",
              "      <th>employment_type</th>\n",
              "      <th></th>\n",
              "      <th></th>\n",
              "      <th></th>\n",
              "      <th></th>\n",
              "      <th></th>\n",
              "    </tr>\n",
              "  </thead>\n",
              "  <tbody>\n",
              "    <tr>\n",
              "      <th>FT</th>\n",
              "      <td>4</td>\n",
              "      <td>3</td>\n",
              "      <td>51</td>\n",
              "      <td>690</td>\n",
              "      <td>124</td>\n",
              "    </tr>\n",
              "    <tr>\n",
              "      <th>PT</th>\n",
              "      <td>1</td>\n",
              "      <td>0</td>\n",
              "      <td>1</td>\n",
              "      <td>16</td>\n",
              "      <td>4</td>\n",
              "    </tr>\n",
              "  </tbody>\n",
              "</table>\n",
              "</div>"
            ],
            "text/plain": [
              "work_year        2020  2021  2022  2023  2024\n",
              "employment_type                              \n",
              "FT                  4     3    51   690   124\n",
              "PT                  1     0     1    16     4"
            ]
          },
          "execution_count": 183,
          "metadata": {},
          "output_type": "execute_result"
        }
      ],
      "source": [
        "pd.crosstab(mydata['employment_type'],mydata['work_year'] )"
      ]
    },
    {
      "cell_type": "code",
      "execution_count": null,
      "id": "f2f58f21-a823-40d3-bd07-3d817f4f6646",
      "metadata": {
        "id": "f2f58f21-a823-40d3-bd07-3d817f4f6646",
        "outputId": "a24f7fca-0537-4449-9cb3-66ddc0a8e0c0"
      },
      "outputs": [
        {
          "data": {
            "text/plain": [
              "<Axes: xlabel='work_year', ylabel='count'>"
            ]
          },
          "execution_count": 184,
          "metadata": {},
          "output_type": "execute_result"
        },
        {
          "data": {
            "image/png": "[encoded data removed]",
            "text/plain": [
              "<Figure size 640x480 with 1 Axes>"
            ]
          },
          "metadata": {},
          "output_type": "display_data"
        }
      ],
      "source": [
        "sns.countplot(x=\"work_year\", hue=\"Gender\", data=mydata)"
      ]
    },
    {
      "cell_type": "code",
      "execution_count": null,
      "id": "6ec6dec7-be51-49bc-b038-cc17c6c0c741",
      "metadata": {
        "id": "6ec6dec7-be51-49bc-b038-cc17c6c0c741"
      },
      "outputs": [],
      "source": [
        "np.random.seed(50)"
      ]
    },
    {
      "cell_type": "code",
      "execution_count": null,
      "id": "4a5435c8-b552-4d6c-a64e-48ebc25dac69",
      "metadata": {
        "id": "4a5435c8-b552-4d6c-a64e-48ebc25dac69"
      },
      "outputs": [],
      "source": [
        "x = st.skewnorm.rvs(1, size=1000)"
      ]
    },
    {
      "cell_type": "code",
      "execution_count": null,
      "id": "328fb43e-a3fb-4f65-a278-5bc4e7a96da1",
      "metadata": {
        "id": "328fb43e-a3fb-4f65-a278-5bc4e7a96da1",
        "outputId": "8ab0cf7a-a0fb-461d-faf7-4ae2e272e1ff"
      },
      "outputs": [
        {
          "data": {
            "text/plain": [
              "array([ 0.54937938,  1.42701278,  1.74778689,  0.07965578, -0.34787282,\n",
              "        1.06297836,  1.19892452,  0.15519929,  0.01592872,  1.57858941,\n",
              "        0.13370139,  1.95564439,  0.14730777, -0.0398848 , -0.90762549,\n",
              "        1.50263604,  1.55804752,  1.21700172, -0.7166095 ,  0.10942641,\n",
              "       -1.44603469,  1.15371393,  1.33795722,  0.24565707, -0.58096319,\n",
              "        1.01247141,  0.07673511,  1.26351273,  0.92643532, -0.37547832])"
            ]
          },
          "execution_count": 187,
          "metadata": {},
          "output_type": "execute_result"
        }
      ],
      "source": [
        "x[5:35]"
      ]
    },
    {
      "cell_type": "code",
      "execution_count": null,
      "id": "1c53bafa-41a5-4eed-a0d2-9aef41b79c14",
      "metadata": {
        "id": "1c53bafa-41a5-4eed-a0d2-9aef41b79c14",
        "outputId": "a1dcc576-ce03-4cdb-901b-1e01b8b95e6f"
      },
      "outputs": [
        {
          "data": {
            "image/png": "[encoded data removed]",
            "text/plain": [
              "<Figure size 640x480 with 1 Axes>"
            ]
          },
          "metadata": {},
          "output_type": "display_data"
        }
      ],
      "source": [
        "fig, ax = plt.subplots()\n",
        "_ = plt.hist(x, color = 'green')"
      ]
    },
    {
      "cell_type": "markdown",
      "id": "6227a451-4c06-4bf6-a42b-34543203876b",
      "metadata": {
        "id": "6227a451-4c06-4bf6-a42b-34543203876b"
      },
      "source": [
        "#### Mean"
      ]
    },
    {
      "cell_type": "markdown",
      "id": "7dfd64ed-bddd-47a8-83c6-7ca1e4154d5b",
      "metadata": {
        "id": "7dfd64ed-bddd-47a8-83c6-7ca1e4154d5b"
      },
      "source": [
        "The most common measure of central tendency, synonomous with the term \"average\", is the **mean**, often symbolized with $\\mu$ (population) or $\\bar{x}$ (sample):"
      ]
    },
    {
      "cell_type": "markdown",
      "id": "78511d57-18d6-4ed0-831d-c76052ad2689",
      "metadata": {
        "id": "78511d57-18d6-4ed0-831d-c76052ad2689"
      },
      "source": [
        "$$ \\bar{x} = \\frac{\\sum_{i=1}^n x_i}{n} $$"
      ]
    },
    {
      "cell_type": "code",
      "execution_count": null,
      "id": "9743a5c0-a075-493f-88ed-b2f12e4decf7",
      "metadata": {
        "id": "9743a5c0-a075-493f-88ed-b2f12e4decf7",
        "outputId": "44ee5a70-523c-410e-a775-b969d01a7cdf"
      },
      "outputs": [
        {
          "data": {
            "text/plain": [
              "0.5653324684111504"
            ]
          },
          "execution_count": 189,
          "metadata": {},
          "output_type": "execute_result"
        }
      ],
      "source": [
        "xbar = x.mean()\n",
        "xbar"
      ]
    },
    {
      "cell_type": "code",
      "execution_count": null,
      "id": "4ea2d02e-ecc6-4b8c-a083-46dff651b895",
      "metadata": {
        "id": "4ea2d02e-ecc6-4b8c-a083-46dff651b895",
        "outputId": "d1c1ed9d-8f46-4770-ec22-cf67caa80005"
      },
      "outputs": [
        {
          "data": {
            "image/png": "[encoded data removed]",
            "text/plain": [
              "<Figure size 640x480 with 1 Axes>"
            ]
          },
          "metadata": {},
          "output_type": "display_data"
        }
      ],
      "source": [
        "fig, ax = plt.subplots()\n",
        "plt.axvline(x = x.mean(), color='red')\n",
        "_ = plt.hist(x, color = 'green')"
      ]
    },
    {
      "cell_type": "markdown",
      "id": "2ba0d871-dbb8-4efc-b08b-ac78efe791b2",
      "metadata": {
        "id": "2ba0d871-dbb8-4efc-b08b-ac78efe791b2"
      },
      "source": [
        "#### Median"
      ]
    },
    {
      "cell_type": "markdown",
      "id": "d148f0c5-f7e0-4dbf-94ca-63940e8c8750",
      "metadata": {
        "id": "d148f0c5-f7e0-4dbf-94ca-63940e8c8750"
      },
      "source": [
        "The second most common measure of central tendency is the **median**, the midpoint value in the distribution:"
      ]
    },
    {
      "cell_type": "code",
      "execution_count": null,
      "id": "0165e23d-e83e-49c4-98bb-83a2201b7a90",
      "metadata": {
        "id": "0165e23d-e83e-49c4-98bb-83a2201b7a90",
        "outputId": "6840a94a-48d0-44bb-fb23-86526b1898f3"
      },
      "outputs": [
        {
          "data": {
            "text/plain": [
              "0.5558992447303972"
            ]
          },
          "execution_count": 191,
          "metadata": {},
          "output_type": "execute_result"
        }
      ],
      "source": [
        "np.median(x)"
      ]
    },
    {
      "cell_type": "code",
      "execution_count": null,
      "id": "6a5c32d8-0dc3-40e1-a81f-560307fc9897",
      "metadata": {
        "id": "6a5c32d8-0dc3-40e1-a81f-560307fc9897",
        "outputId": "31232366-f95e-4abc-d3f5-55cb86085179"
      },
      "outputs": [
        {
          "data": {
            "image/png": "[encoded data removed]",
            "text/plain": [
              "<Figure size 640x480 with 1 Axes>"
            ]
          },
          "metadata": {},
          "output_type": "display_data"
        }
      ],
      "source": [
        "fig, ax = plt.subplots()\n",
        "plt.axvline(x = np.mean(x), color='red')\n",
        "plt.axvline(x = np.median(x), color='yellow')\n",
        "_ = plt.hist(x, color = 'green')"
      ]
    },
    {
      "cell_type": "markdown",
      "id": "d3869c74-b54f-43a5-89d3-e6cac3fda446",
      "metadata": {
        "id": "d3869c74-b54f-43a5-89d3-e6cac3fda446"
      },
      "source": [
        "### Measures of Dispersion"
      ]
    },
    {
      "cell_type": "markdown",
      "id": "482ed362-e2b5-40b9-be93-508ecb50711f",
      "metadata": {
        "id": "482ed362-e2b5-40b9-be93-508ecb50711f"
      },
      "source": [
        "#### Variance"
      ]
    },
    {
      "cell_type": "markdown",
      "id": "5c5f0d63-79d4-4254-9449-7f2c3e772153",
      "metadata": {
        "id": "5c5f0d63-79d4-4254-9449-7f2c3e772153"
      },
      "source": [
        "$$ \\sigma^2 = \\frac{\\sum_{i=1}^n (x_i-\\bar{x})^2}{n} $$"
      ]
    },
    {
      "cell_type": "code",
      "execution_count": null,
      "id": "bc9d062c-72f9-4abb-b6ca-ee2182e426c6",
      "metadata": {
        "id": "bc9d062c-72f9-4abb-b6ca-ee2182e426c6",
        "outputId": "174accdd-93e6-4094-88d9-0e129a759df8"
      },
      "outputs": [
        {
          "data": {
            "text/plain": [
              "0.7198150702524777"
            ]
          },
          "execution_count": 193,
          "metadata": {},
          "output_type": "execute_result"
        }
      ],
      "source": [
        "x.var()"
      ]
    },
    {
      "cell_type": "markdown",
      "id": "d958f246-6567-4d86-ae2d-cf342372d110",
      "metadata": {
        "id": "d958f246-6567-4d86-ae2d-cf342372d110"
      },
      "source": [
        "#### Standard Deviation"
      ]
    },
    {
      "cell_type": "markdown",
      "id": "63b83a8a-acf6-4906-9d37-91f1b9760c79",
      "metadata": {
        "id": "63b83a8a-acf6-4906-9d37-91f1b9760c79"
      },
      "source": [
        "A straightforward derivative of variance is **standard deviation** (denoted with $\\sigma$), which is convenient because its units are on the same scale as the values in the distribution:\n",
        "$$ \\sigma = \\sqrt{\\sigma^2} $$"
      ]
    },
    {
      "cell_type": "code",
      "execution_count": null,
      "id": "08ca2c02-8d0e-4fab-b2f8-20c915e7a8fa",
      "metadata": {
        "id": "08ca2c02-8d0e-4fab-b2f8-20c915e7a8fa",
        "outputId": "ca19dc7f-2235-4e6f-c0ef-8b502af363b1"
      },
      "outputs": [
        {
          "data": {
            "text/plain": [
              "0.8484191595269862"
            ]
          },
          "execution_count": 194,
          "metadata": {},
          "output_type": "execute_result"
        }
      ],
      "source": [
        "x.var()**(1/2)"
      ]
    },
    {
      "cell_type": "code",
      "execution_count": null,
      "id": "308cb2d3-60d3-4511-9d26-fea91d80bb04",
      "metadata": {
        "id": "308cb2d3-60d3-4511-9d26-fea91d80bb04",
        "outputId": "7131c4eb-dbc4-451f-b06c-33065abea6f6"
      },
      "outputs": [
        {
          "data": {
            "text/plain": [
              "0.8484191595269862"
            ]
          },
          "execution_count": 195,
          "metadata": {},
          "output_type": "execute_result"
        }
      ],
      "source": [
        "sigma = x.std()\n",
        "sigma"
      ]
    },
    {
      "cell_type": "code",
      "execution_count": null,
      "id": "0b3b1267-4ed4-492c-b7d9-38ca45d8eb36",
      "metadata": {
        "id": "0b3b1267-4ed4-492c-b7d9-38ca45d8eb36",
        "outputId": "6d730b6a-9cce-4841-8943-0cadf4458d3e"
      },
      "outputs": [
        {
          "data": {
            "image/png": "[encoded data removed]",
            "text/plain": [
              "<Figure size 640x480 with 1 Axes>"
            ]
          },
          "metadata": {},
          "output_type": "display_data"
        }
      ],
      "source": [
        "fig, ax = plt.subplots()\n",
        "plt.axvline(x = xbar, color='orange')\n",
        "plt.axvline(x = xbar+sigma, color='olivedrab')\n",
        "plt.axvline(x = xbar-sigma, color='olivedrab')\n",
        "plt.axvline(x = xbar+1.5, color='red')\n",
        "plt.axvline(x = xbar-1.5, color='red')\n",
        "_ = plt.hist(x, color = 'lightgray')"
      ]
    },
    {
      "cell_type": "markdown",
      "id": "bb2a64b3-e56a-447d-ae0d-e83bb3f9f80a",
      "metadata": {
        "id": "bb2a64b3-e56a-447d-ae0d-e83bb3f9f80a"
      },
      "source": [
        "#### Standard Error"
      ]
    },
    {
      "cell_type": "markdown",
      "id": "084c7be7-ca5c-4c17-a64c-4ae1ccc059fc",
      "metadata": {
        "id": "084c7be7-ca5c-4c17-a64c-4ae1ccc059fc"
      },
      "source": [
        "A further derivation of standard deviation is **standard error**, which is denoted with $\\sigma_\\bar{x}$:\n",
        "$$ \\sigma_\\bar{x} = \\frac{\\sigma}{\\sqrt{n}} $$"
      ]
    },
    {
      "cell_type": "code",
      "execution_count": null,
      "id": "5ad34f43-43b3-453d-8a43-4994f5591d43",
      "metadata": {
        "id": "5ad34f43-43b3-453d-8a43-4994f5591d43",
        "outputId": "29661779-b70a-493e-db29-36ec98fe1dde"
      },
      "outputs": [
        {
          "data": {
            "text/plain": [
              "0.02682936954631021"
            ]
          },
          "execution_count": 197,
          "metadata": {},
          "output_type": "execute_result"
        }
      ],
      "source": [
        "sigma/(x.size)**(1/2)"
      ]
    },
    {
      "cell_type": "code",
      "execution_count": null,
      "id": "d480b084-e12c-4ccf-97a1-1a8a8b3d93d3",
      "metadata": {
        "id": "d480b084-e12c-4ccf-97a1-1a8a8b3d93d3",
        "outputId": "6866d411-c14a-4d7a-ae66-f0b75659805f"
      },
      "outputs": [
        {
          "data": {
            "text/plain": [
              "0.026842794300488467"
            ]
          },
          "execution_count": 198,
          "metadata": {},
          "output_type": "execute_result"
        }
      ],
      "source": [
        "st.sem(x) # defaults to 1 degree of freedom, which can be ignored with the larger data sets of ML"
      ]
    },
    {
      "cell_type": "code",
      "execution_count": null,
      "id": "3c86a2ef-4e61-4c3c-8f61-07cddf24f2c5",
      "metadata": {
        "id": "3c86a2ef-4e61-4c3c-8f61-07cddf24f2c5",
        "outputId": "11ba2b22-02d0-4f30-fe9c-b8d74aab51dc"
      },
      "outputs": [
        {
          "data": {
            "text/plain": [
              "0.02682936954631021"
            ]
          },
          "execution_count": 199,
          "metadata": {},
          "output_type": "execute_result"
        }
      ],
      "source": [
        "st.sem(x, ddof=0)"
      ]
    },
    {
      "cell_type": "markdown",
      "id": "495897d9-38b4-4114-ba3a-f561d88d954e",
      "metadata": {
        "id": "495897d9-38b4-4114-ba3a-f561d88d954e"
      },
      "source": [
        "### Gaussian Distribution"
      ]
    },
    {
      "cell_type": "code",
      "execution_count": null,
      "id": "4a8c553f-7a00-4000-a858-ccbb22bc09c3",
      "metadata": {
        "id": "4a8c553f-7a00-4000-a858-ccbb22bc09c3"
      },
      "outputs": [],
      "source": [
        "x = np.random.normal(size=10000)"
      ]
    },
    {
      "cell_type": "code",
      "execution_count": null,
      "id": "749be7e6-ae25-4e6f-ab8e-d6add75dafab",
      "metadata": {
        "id": "749be7e6-ae25-4e6f-ab8e-d6add75dafab"
      },
      "outputs": [],
      "source": [
        "sns.set_style('ticks')"
      ]
    },
    {
      "cell_type": "code",
      "execution_count": null,
      "id": "396bc9d6-4d9b-4d6d-828c-8dd3e3035ddb",
      "metadata": {
        "id": "396bc9d6-4d9b-4d6d-828c-8dd3e3035ddb",
        "outputId": "ec736acd-effb-4279-ccd4-eb3bfe849b72"
      },
      "outputs": [
        {
          "name": "stderr",
          "output_type": "stream",
          "text": [
            "C:\\Users\\SherdllStore\\anaconda3\\Lib\\site-packages\\seaborn\\_oldcore.py:1119: FutureWarning: use_inf_as_na option is deprecated and will be removed in a future version. Convert inf values to NaN before operating instead.\n",
            "  with pd.option_context('mode.use_inf_as_na', True):\n"
          ]
        },
        {
          "data": {
            "image/png": "[encoded data removed]",
            "text/plain": [
              "<Figure size 500x500 with 1 Axes>"
            ]
          },
          "metadata": {},
          "output_type": "display_data"
        }
      ],
      "source": [
        "_ = sns.displot(x, kde=True)"
      ]
    },
    {
      "cell_type": "markdown",
      "id": "493eb652-80f4-43df-b14d-d2ef9aa7aa07",
      "metadata": {
        "id": "493eb652-80f4-43df-b14d-d2ef9aa7aa07"
      },
      "source": [
        "When the normal distribution has a mean ($\\mu$) of zero and standard deviation ($\\sigma$) of one, as it does by default with the NumPy `normal()` method..."
      ]
    },
    {
      "cell_type": "code",
      "execution_count": null,
      "id": "d4e80f82-5505-47d4-b0c7-ea32e5fdaf21",
      "metadata": {
        "id": "d4e80f82-5505-47d4-b0c7-ea32e5fdaf21",
        "outputId": "d1909271-90b2-48f8-88d0-2ec08a2f42ce"
      },
      "outputs": [
        {
          "data": {
            "text/plain": [
              "0.00991262662771664"
            ]
          },
          "execution_count": 203,
          "metadata": {},
          "output_type": "execute_result"
        }
      ],
      "source": [
        "x.mean()"
      ]
    },
    {
      "cell_type": "code",
      "execution_count": null,
      "id": "74c4e111-d10f-433b-a68f-9af002a5a202",
      "metadata": {
        "id": "74c4e111-d10f-433b-a68f-9af002a5a202",
        "outputId": "e37f51a1-aa9f-4fda-bffa-89247431eff5"
      },
      "outputs": [
        {
          "data": {
            "text/plain": [
              "0.9944916947300967"
            ]
          },
          "execution_count": 204,
          "metadata": {},
          "output_type": "execute_result"
        }
      ],
      "source": [
        "x.std()"
      ]
    },
    {
      "cell_type": "markdown",
      "id": "e0bc182e-a42a-417c-85bf-002a9c9de269",
      "metadata": {
        "id": "e0bc182e-a42a-417c-85bf-002a9c9de269"
      },
      "source": [
        "...it is a **standard normal distribution** (a.k.a., standard Gaussian distribution or ***z*-distribution**), which can be denoted as $\\mathcal{N}(\\mu, \\sigma^2) = \\mathcal{N}(0, 1)$ (noting that $\\sigma^2 = \\sigma$ here because $1^2 = 1$)."
      ]
    },
    {
      "cell_type": "markdown",
      "id": "2330209b-c2c7-4f05-9a7e-bf51a5806022",
      "metadata": {
        "id": "2330209b-c2c7-4f05-9a7e-bf51a5806022"
      },
      "source": [
        "### The Central Limit Theorem"
      ]
    },
    {
      "cell_type": "markdown",
      "id": "50fe2f96-b86d-4f88-9fc6-3b9278bb531b",
      "metadata": {
        "id": "50fe2f96-b86d-4f88-9fc6-3b9278bb531b"
      },
      "source": [
        "To develop a functional understanding of the CLT, let's sample some values from our normal distribution:"
      ]
    },
    {
      "cell_type": "code",
      "execution_count": null,
      "id": "ac424c25-6420-44aa-a167-b3cde3c0b9e4",
      "metadata": {
        "id": "ac424c25-6420-44aa-a167-b3cde3c0b9e4",
        "outputId": "7dfae01a-f8b5-488e-f183-31f8be10ae6c"
      },
      "outputs": [
        {
          "data": {
            "text/plain": [
              "array([ 0.00372585,  0.72185572, -1.42342446,  0.02736535, -0.12829388,\n",
              "       -1.068417  ,  0.33972627,  0.358566  ,  0.39546244, -1.93370882,\n",
              "        1.18642537,  1.07698744, -2.34998565, -0.90292022,  1.7501928 ])"
            ]
          },
          "execution_count": 205,
          "metadata": {},
          "output_type": "execute_result"
        }
      ],
      "source": [
        "x_sample = np.random.choice(x, size=15, replace=False)\n",
        "x_sample"
      ]
    },
    {
      "cell_type": "code",
      "execution_count": null,
      "id": "b9b00c98-1a49-4169-963d-d65a56a7ac29",
      "metadata": {
        "id": "b9b00c98-1a49-4169-963d-d65a56a7ac29",
        "outputId": "ecf216d2-3140-44e1-85e7-4d74553592c6"
      },
      "outputs": [
        {
          "data": {
            "text/plain": [
              "-0.12976285337413887"
            ]
          },
          "execution_count": 206,
          "metadata": {},
          "output_type": "execute_result"
        }
      ],
      "source": [
        "x_sample.mean()"
      ]
    },
    {
      "cell_type": "code",
      "execution_count": null,
      "id": "8435af4c-c67c-4287-930e-1d2748971fda",
      "metadata": {
        "id": "8435af4c-c67c-4287-930e-1d2748971fda"
      },
      "outputs": [],
      "source": [
        "def sample_mean_calculator(input_dist, sample_size, n_samples):\n",
        "    sample_means = []\n",
        "    for i in range(n_samples):\n",
        "        sample = np.random.choice(input_dist, size=sample_size, replace=False)\n",
        "        sample_means.append(sample.mean())\n",
        "    return sample_means"
      ]
    },
    {
      "cell_type": "code",
      "execution_count": null,
      "id": "613f7a53-1ae6-4b90-9912-2bf052154afe",
      "metadata": {
        "id": "613f7a53-1ae6-4b90-9912-2bf052154afe",
        "outputId": "a36e0723-df58-4c84-fd27-7abf45798426"
      },
      "outputs": [
        {
          "name": "stderr",
          "output_type": "stream",
          "text": [
            "C:\\Users\\SherdllStore\\anaconda3\\Lib\\site-packages\\seaborn\\_oldcore.py:1119: FutureWarning: use_inf_as_na option is deprecated and will be removed in a future version. Convert inf values to NaN before operating instead.\n",
            "  with pd.option_context('mode.use_inf_as_na', True):\n"
          ]
        },
        {
          "data": {
            "image/png": "[encoded data removed]",
            "text/plain": [
              "<Figure size 500x500 with 1 Axes>"
            ]
          },
          "metadata": {},
          "output_type": "display_data"
        }
      ],
      "source": [
        "sns.displot(sample_mean_calculator(x, 10, 10), color='green', kde=True)\n",
        "_ = plt.xlim(-1.5, 1.5)"
      ]
    },
    {
      "cell_type": "code",
      "execution_count": null,
      "id": "666ded79-7184-43c9-accd-0a032e83ae59",
      "metadata": {
        "id": "666ded79-7184-43c9-accd-0a032e83ae59",
        "outputId": "e35bce43-be1c-462c-8077-5054a59fb92f"
      },
      "outputs": [
        {
          "name": "stderr",
          "output_type": "stream",
          "text": [
            "C:\\Users\\SherdllStore\\anaconda3\\Lib\\site-packages\\seaborn\\_oldcore.py:1119: FutureWarning: use_inf_as_na option is deprecated and will be removed in a future version. Convert inf values to NaN before operating instead.\n",
            "  with pd.option_context('mode.use_inf_as_na', True):\n"
          ]
        },
        {
          "data": {
            "image/png": "[encoded data removed]",
            "text/plain": [
              "<Figure size 500x500 with 1 Axes>"
            ]
          },
          "metadata": {},
          "output_type": "display_data"
        }
      ],
      "source": [
        "sns.displot(sample_mean_calculator(x, 10, 1000), color='green', kde=True)\n",
        "_ = plt.xlim(-1.5, 1.5)"
      ]
    },
    {
      "cell_type": "code",
      "execution_count": null,
      "id": "639f693b-46ee-4c69-8641-428e5387ef11",
      "metadata": {
        "id": "639f693b-46ee-4c69-8641-428e5387ef11",
        "outputId": "d74daf4d-c894-42a2-92cd-44e50bf02ec7"
      },
      "outputs": [
        {
          "name": "stderr",
          "output_type": "stream",
          "text": [
            "C:\\Users\\SherdllStore\\anaconda3\\Lib\\site-packages\\seaborn\\_oldcore.py:1119: FutureWarning: use_inf_as_na option is deprecated and will be removed in a future version. Convert inf values to NaN before operating instead.\n",
            "  with pd.option_context('mode.use_inf_as_na', True):\n"
          ]
        },
        {
          "data": {
            "image/png": "[encoded data removed]",
            "text/plain": [
              "<Figure size 500x500 with 1 Axes>"
            ]
          },
          "metadata": {},
          "output_type": "display_data"
        }
      ],
      "source": [
        "sns.displot(sample_mean_calculator(x, 100, 1000), color='green', kde=True)\n",
        "_ = plt.xlim(-1.5, 1.5)"
      ]
    },
    {
      "cell_type": "code",
      "execution_count": null,
      "id": "81f8ad14-7481-45c7-95d6-e990bd3bd234",
      "metadata": {
        "id": "81f8ad14-7481-45c7-95d6-e990bd3bd234",
        "outputId": "97a532d2-446f-4c6f-d906-70918db56128"
      },
      "outputs": [
        {
          "name": "stderr",
          "output_type": "stream",
          "text": [
            "C:\\Users\\SherdllStore\\anaconda3\\Lib\\site-packages\\seaborn\\_oldcore.py:1119: FutureWarning: use_inf_as_na option is deprecated and will be removed in a future version. Convert inf values to NaN before operating instead.\n",
            "  with pd.option_context('mode.use_inf_as_na', True):\n"
          ]
        },
        {
          "data": {
            "image/png": "[encoded data removed]",
            "text/plain": [
              "<Figure size 500x500 with 1 Axes>"
            ]
          },
          "metadata": {},
          "output_type": "display_data"
        }
      ],
      "source": [
        "sns.displot(sample_mean_calculator(x, 1000, 1000), color='green', kde=True)\n",
        "_ = plt.xlim(-1.5, 1.5)"
      ]
    },
    {
      "cell_type": "markdown",
      "id": "fdbdeb73-9ade-4632-9602-3773d8d967cc",
      "metadata": {
        "id": "fdbdeb73-9ade-4632-9602-3773d8d967cc"
      },
      "source": [
        "#### Sampling from a skewed distribution"
      ]
    },
    {
      "cell_type": "code",
      "execution_count": null,
      "id": "276bdc53-a32d-47ce-bd79-fd60c4bae19e",
      "metadata": {
        "id": "276bdc53-a32d-47ce-bd79-fd60c4bae19e"
      },
      "outputs": [],
      "source": [
        "s = st.skewnorm.rvs(10, size=800)"
      ]
    },
    {
      "cell_type": "code",
      "execution_count": null,
      "id": "7b38af40-f059-4b74-8168-c659f8ecb239",
      "metadata": {
        "id": "7b38af40-f059-4b74-8168-c659f8ecb239",
        "outputId": "a9b144db-aacb-45fa-f877-028994d0c148"
      },
      "outputs": [
        {
          "name": "stderr",
          "output_type": "stream",
          "text": [
            "C:\\Users\\SherdllStore\\anaconda3\\Lib\\site-packages\\seaborn\\_oldcore.py:1119: FutureWarning: use_inf_as_na option is deprecated and will be removed in a future version. Convert inf values to NaN before operating instead.\n",
            "  with pd.option_context('mode.use_inf_as_na', True):\n"
          ]
        },
        {
          "data": {
            "image/png": "[encoded data removed]",
            "text/plain": [
              "<Figure size 500x500 with 1 Axes>"
            ]
          },
          "metadata": {},
          "output_type": "display_data"
        }
      ],
      "source": [
        "_ = sns.displot(s, kde=True)"
      ]
    },
    {
      "cell_type": "code",
      "execution_count": null,
      "id": "03ebbf0f-f291-4b2b-97cb-362c47427a64",
      "metadata": {
        "id": "03ebbf0f-f291-4b2b-97cb-362c47427a64",
        "outputId": "9927f8bc-41dd-4514-eefd-d3f6168415be"
      },
      "outputs": [
        {
          "name": "stderr",
          "output_type": "stream",
          "text": [
            "C:\\Users\\SherdllStore\\anaconda3\\Lib\\site-packages\\seaborn\\_oldcore.py:1119: FutureWarning: use_inf_as_na option is deprecated and will be removed in a future version. Convert inf values to NaN before operating instead.\n",
            "  with pd.option_context('mode.use_inf_as_na', True):\n"
          ]
        },
        {
          "data": {
            "image/png": "[encoded data removed]",
            "text/plain": [
              "<Figure size 500x500 with 1 Axes>"
            ]
          },
          "metadata": {},
          "output_type": "display_data"
        }
      ],
      "source": [
        "_ = sns.displot(sample_mean_calculator(s, 10, 1000), color='green', kde=True)"
      ]
    },
    {
      "cell_type": "code",
      "execution_count": null,
      "id": "f674f0c0-4545-4d0e-9190-66ee4a0bac7b",
      "metadata": {
        "id": "f674f0c0-4545-4d0e-9190-66ee4a0bac7b",
        "outputId": "c1cf65df-7f43-4209-ae13-988f69f36451"
      },
      "outputs": [
        {
          "name": "stderr",
          "output_type": "stream",
          "text": [
            "C:\\Users\\SherdllStore\\anaconda3\\Lib\\site-packages\\seaborn\\_oldcore.py:1119: FutureWarning: use_inf_as_na option is deprecated and will be removed in a future version. Convert inf values to NaN before operating instead.\n",
            "  with pd.option_context('mode.use_inf_as_na', True):\n"
          ]
        },
        {
          "data": {
            "image/png": "[encoded data removed]",
            "text/plain": [
              "<Figure size 500x500 with 1 Axes>"
            ]
          },
          "metadata": {},
          "output_type": "display_data"
        }
      ],
      "source": [
        "_ = sns.displot(sample_mean_calculator(s, 100, 1000), color='green', kde=True)"
      ]
    },
    {
      "cell_type": "markdown",
      "id": "af1c0bf2-b5c5-49b4-a72c-b55439b82ffb",
      "metadata": {
        "id": "af1c0bf2-b5c5-49b4-a72c-b55439b82ffb"
      },
      "source": [
        "#### Sampling from a multimodal distribution"
      ]
    },
    {
      "cell_type": "code",
      "execution_count": null,
      "id": "a77d365d-7bb5-4a1f-b744-03684fcaff09",
      "metadata": {
        "id": "a77d365d-7bb5-4a1f-b744-03684fcaff09"
      },
      "outputs": [],
      "source": [
        "m = np.concatenate((np.random.normal(size=8000), np.random.normal(loc = 4.0, size=5000)))"
      ]
    },
    {
      "cell_type": "code",
      "execution_count": null,
      "id": "bc9266cf-4da7-47c7-9090-642a1ebaa936",
      "metadata": {
        "id": "bc9266cf-4da7-47c7-9090-642a1ebaa936",
        "outputId": "5bf5ec9d-db85-48eb-fd44-75d9aa3828d0"
      },
      "outputs": [
        {
          "name": "stderr",
          "output_type": "stream",
          "text": [
            "C:\\Users\\SherdllStore\\anaconda3\\Lib\\site-packages\\seaborn\\_oldcore.py:1119: FutureWarning: use_inf_as_na option is deprecated and will be removed in a future version. Convert inf values to NaN before operating instead.\n",
            "  with pd.option_context('mode.use_inf_as_na', True):\n"
          ]
        },
        {
          "data": {
            "image/png": "[encoded data removed]",
            "text/plain": [
              "<Figure size 500x500 with 1 Axes>"
            ]
          },
          "metadata": {},
          "output_type": "display_data"
        }
      ],
      "source": [
        "_ = sns.displot(m, kde=False)"
      ]
    },
    {
      "cell_type": "code",
      "execution_count": null,
      "id": "c6491423-bf6c-4400-850f-c9ae8920545a",
      "metadata": {
        "id": "c6491423-bf6c-4400-850f-c9ae8920545a",
        "outputId": "b070d1ec-64f4-4bdc-a764-a204bd9df40f"
      },
      "outputs": [
        {
          "name": "stderr",
          "output_type": "stream",
          "text": [
            "C:\\Users\\SherdllStore\\anaconda3\\Lib\\site-packages\\seaborn\\_oldcore.py:1119: FutureWarning: use_inf_as_na option is deprecated and will be removed in a future version. Convert inf values to NaN before operating instead.\n",
            "  with pd.option_context('mode.use_inf_as_na', True):\n"
          ]
        },
        {
          "data": {
            "image/png": "[encoded data removed]",
            "text/plain": [
              "<Figure size 500x500 with 1 Axes>"
            ]
          },
          "metadata": {},
          "output_type": "display_data"
        }
      ],
      "source": [
        "_ = sns.displot(sample_mean_calculator(m, 1000, 1000), color='green', kde=True)"
      ]
    },
    {
      "cell_type": "markdown",
      "id": "1200e5c9-5b0a-4175-8b4c-13091787ee7e",
      "metadata": {
        "id": "1200e5c9-5b0a-4175-8b4c-13091787ee7e"
      },
      "source": [
        "#### Sampling from uniform"
      ]
    },
    {
      "cell_type": "markdown",
      "id": "4b5e232b-1376-4113-afa0-ee4d7920267f",
      "metadata": {
        "id": "4b5e232b-1376-4113-afa0-ee4d7920267f"
      },
      "source": [
        "Even sampling from the highly non-normal uniform distribution, the sampling distribution comes out normal:"
      ]
    },
    {
      "cell_type": "code",
      "execution_count": null,
      "id": "3249a05f-2391-420b-9ecd-6d2862b181a0",
      "metadata": {
        "id": "3249a05f-2391-420b-9ecd-6d2862b181a0"
      },
      "outputs": [],
      "source": [
        "u = np.random.uniform(size=50000)"
      ]
    },
    {
      "cell_type": "code",
      "execution_count": null,
      "id": "2689a306-c49d-4944-bd54-74f41e86b905",
      "metadata": {
        "id": "2689a306-c49d-4944-bd54-74f41e86b905",
        "outputId": "3d644ab7-dfe5-4737-97fc-5a85db6665ed"
      },
      "outputs": [
        {
          "name": "stderr",
          "output_type": "stream",
          "text": [
            "C:\\Users\\SherdllStore\\anaconda3\\Lib\\site-packages\\seaborn\\_oldcore.py:1119: FutureWarning: use_inf_as_na option is deprecated and will be removed in a future version. Convert inf values to NaN before operating instead.\n",
            "  with pd.option_context('mode.use_inf_as_na', True):\n"
          ]
        },
        {
          "data": {
            "image/png": "[encoded data removed]",
            "text/plain": [
              "<Figure size 500x500 with 1 Axes>"
            ]
          },
          "metadata": {},
          "output_type": "display_data"
        }
      ],
      "source": [
        "_ = sns.displot(u)"
      ]
    },
    {
      "cell_type": "code",
      "execution_count": null,
      "id": "89016714-99a0-4a55-9e19-2aafa4fc2c9e",
      "metadata": {
        "id": "89016714-99a0-4a55-9e19-2aafa4fc2c9e",
        "outputId": "0f364a9c-2bcc-4cf3-911c-54f60dd9db25"
      },
      "outputs": [
        {
          "name": "stderr",
          "output_type": "stream",
          "text": [
            "C:\\Users\\SherdllStore\\anaconda3\\Lib\\site-packages\\seaborn\\_oldcore.py:1119: FutureWarning: use_inf_as_na option is deprecated and will be removed in a future version. Convert inf values to NaN before operating instead.\n",
            "  with pd.option_context('mode.use_inf_as_na', True):\n"
          ]
        },
        {
          "data": {
            "image/png": "[encoded data removed]",
            "text/plain": [
              "<Figure size 500x500 with 1 Axes>"
            ]
          },
          "metadata": {},
          "output_type": "display_data"
        }
      ],
      "source": [
        "_ = sns.displot(sample_mean_calculator(u, 1000, 1000), color='green', kde=True)"
      ]
    },
    {
      "cell_type": "markdown",
      "id": "2c1b553c-5a3f-467f-ad75-a582346a3945",
      "metadata": {
        "id": "2c1b553c-5a3f-467f-ad75-a582346a3945"
      },
      "source": [
        "### z-scores"
      ]
    },
    {
      "cell_type": "markdown",
      "id": "fe76a15c-872b-4186-95e2-d9faf39bada7",
      "metadata": {
        "id": "fe76a15c-872b-4186-95e2-d9faf39bada7"
      },
      "source": [
        "Assuming normally-distributed data, a z-score indicates how many standard deviations away from the mean a data point (say, $x_i$) is:\n",
        "$$ z = \\frac{x_i-\\mu}{\\sigma} $$"
      ]
    },
    {
      "cell_type": "code",
      "execution_count": null,
      "id": "a8284aa1-e51f-4595-a4f1-a0f1c2ed8976",
      "metadata": {
        "id": "a8284aa1-e51f-4595-a4f1-a0f1c2ed8976"
      },
      "outputs": [],
      "source": [
        "x_i = 80\n",
        "mu = 75\n",
        "sigma = 3"
      ]
    },
    {
      "cell_type": "code",
      "execution_count": null,
      "id": "f92f5095-27a0-4547-94f3-b2c5c4b401ba",
      "metadata": {
        "id": "f92f5095-27a0-4547-94f3-b2c5c4b401ba"
      },
      "outputs": [],
      "source": [
        "x = np.random.normal(mu, sigma, 10000)"
      ]
    },
    {
      "cell_type": "code",
      "execution_count": null,
      "id": "34056db9-188e-4b0a-b26e-387e6d3b2209",
      "metadata": {
        "id": "34056db9-188e-4b0a-b26e-387e6d3b2209",
        "outputId": "b14de767-e221-4e8a-99a8-5b109dd4b399"
      },
      "outputs": [
        {
          "name": "stderr",
          "output_type": "stream",
          "text": [
            "C:\\Users\\SherdllStore\\anaconda3\\Lib\\site-packages\\seaborn\\_oldcore.py:1119: FutureWarning: use_inf_as_na option is deprecated and will be removed in a future version. Convert inf values to NaN before operating instead.\n",
            "  with pd.option_context('mode.use_inf_as_na', True):\n"
          ]
        },
        {
          "data": {
            "image/png": "[encoded data removed]",
            "text/plain": [
              "<Figure size 500x500 with 1 Axes>"
            ]
          },
          "metadata": {},
          "output_type": "display_data"
        }
      ],
      "source": [
        "sns.displot(x, color='gray')\n",
        "ax.set_xlim(0, 100)\n",
        "plt.axvline(mu, color='orange')\n",
        "for v in [-3, -2, -1, 1, 2, 3]:\n",
        "    plt.axvline(mu+v*sigma, color='olivedrab')\n",
        "_ = plt.axvline(x_i, color='purple')"
      ]
    },
    {
      "cell_type": "code",
      "execution_count": null,
      "id": "31dc9a67-1774-4bfb-a7c1-3064a9d44e26",
      "metadata": {
        "id": "31dc9a67-1774-4bfb-a7c1-3064a9d44e26",
        "outputId": "c5adcfad-6f4c-426f-cfbd-e5235b1b67db"
      },
      "outputs": [
        {
          "data": {
            "text/plain": [
              "1.6666666666666667"
            ]
          },
          "execution_count": 225,
          "metadata": {},
          "output_type": "execute_result"
        }
      ],
      "source": [
        "z = (x_i - mu)/sigma\n",
        "z"
      ]
    },
    {
      "cell_type": "code",
      "execution_count": null,
      "id": "1b995286-200b-4794-8363-b2894202acfe",
      "metadata": {
        "id": "1b995286-200b-4794-8363-b2894202acfe",
        "outputId": "cd3bee1a-2349-42ec-95a0-1bdaf794351c"
      },
      "outputs": [
        {
          "data": {
            "text/plain": [
              "1.654939979012043"
            ]
          },
          "execution_count": 226,
          "metadata": {},
          "output_type": "execute_result"
        }
      ],
      "source": [
        "z = (x_i - np.mean(x))/np.std(x)\n",
        "z"
      ]
    },
    {
      "cell_type": "code",
      "execution_count": null,
      "id": "b5783f03-8049-47c0-be72-c671fa7154cc",
      "metadata": {
        "id": "b5783f03-8049-47c0-be72-c671fa7154cc",
        "outputId": "0133c2b4-3173-441f-bf34-ede2861beeba"
      },
      "outputs": [
        {
          "data": {
            "text/plain": [
              "497"
            ]
          },
          "execution_count": 227,
          "metadata": {},
          "output_type": "execute_result"
        }
      ],
      "source": [
        "len(np.where(x > 80)[0])"
      ]
    },
    {
      "cell_type": "code",
      "execution_count": null,
      "id": "1e296419-c128-4839-875b-8b0ea354ee0c",
      "metadata": {
        "id": "1e296419-c128-4839-875b-8b0ea354ee0c",
        "outputId": "593eba33-8fd3-46a9-e036-d5395f5e43c1"
      },
      "outputs": [
        {
          "data": {
            "text/plain": [
              "4.97"
            ]
          },
          "execution_count": 228,
          "metadata": {},
          "output_type": "execute_result"
        }
      ],
      "source": [
        "100*497/10000"
      ]
    },
    {
      "cell_type": "code",
      "execution_count": null,
      "id": "9ad62852-695e-483c-9c48-d767253ef90c",
      "metadata": {
        "id": "9ad62852-695e-483c-9c48-d767253ef90c"
      },
      "outputs": [],
      "source": [
        "mu = 80\n",
        "sigma = 3"
      ]
    },
    {
      "cell_type": "code",
      "execution_count": null,
      "id": "ac130a87-1dbf-4e48-be0e-573b0bebe01a",
      "metadata": {
        "id": "ac130a87-1dbf-4e48-be0e-573b0bebe01a"
      },
      "outputs": [],
      "source": [
        "y = np.random.normal(mu, sigma, 10000)"
      ]
    },
    {
      "cell_type": "code",
      "execution_count": null,
      "id": "d882ea48-26ff-4dfe-a90a-a7921a4d8162",
      "metadata": {
        "id": "d882ea48-26ff-4dfe-a90a-a7921a4d8162",
        "outputId": "83bd57fd-4b25-47bf-f68c-e386ba3b3973"
      },
      "outputs": [
        {
          "name": "stderr",
          "output_type": "stream",
          "text": [
            "C:\\Users\\SherdllStore\\anaconda3\\Lib\\site-packages\\seaborn\\_oldcore.py:1119: FutureWarning: use_inf_as_na option is deprecated and will be removed in a future version. Convert inf values to NaN before operating instead.\n",
            "  with pd.option_context('mode.use_inf_as_na', True):\n"
          ]
        },
        {
          "data": {
            "image/png": "[encoded data removed]",
            "text/plain": [
              "<Figure size 500x500 with 1 Axes>"
            ]
          },
          "metadata": {},
          "output_type": "display_data"
        }
      ],
      "source": [
        "sns.displot(y, color='gray')\n",
        "plt.axvline(mu, color='orange')\n",
        "for v in [-3, -2, -1, 1, 2, 3]:\n",
        "    plt.axvline(mu+v*sigma, color='olivedrab')\n",
        "_ = plt.axvline(x_i, color='purple')"
      ]
    },
    {
      "cell_type": "code",
      "execution_count": null,
      "id": "f91372bf-950b-424b-9f32-e5da512c310c",
      "metadata": {
        "id": "f91372bf-950b-424b-9f32-e5da512c310c",
        "outputId": "69eddfe4-cb67-4864-eac9-4c119bfca57b"
      },
      "outputs": [
        {
          "data": {
            "text/plain": [
              "0.0"
            ]
          },
          "execution_count": 232,
          "metadata": {},
          "output_type": "execute_result"
        }
      ],
      "source": [
        "z = (x_i - mu)/sigma\n",
        "z"
      ]
    },
    {
      "cell_type": "code",
      "execution_count": null,
      "id": "915b9d29-8ebc-4b9d-b16c-b47758d329e7",
      "metadata": {
        "id": "915b9d29-8ebc-4b9d-b16c-b47758d329e7",
        "outputId": "9f0434a5-527a-4a48-e503-2341163d963b"
      },
      "outputs": [
        {
          "data": {
            "text/plain": [
              "-0.010372354841973182"
            ]
          },
          "execution_count": 233,
          "metadata": {},
          "output_type": "execute_result"
        }
      ],
      "source": [
        "z = (x_i - np.mean(y))/np.std(y)\n",
        "z"
      ]
    },
    {
      "cell_type": "code",
      "execution_count": null,
      "id": "1acc10fc-bc80-4b21-b4e2-70542b8e9043",
      "metadata": {
        "id": "1acc10fc-bc80-4b21-b4e2-70542b8e9043",
        "outputId": "a076b724-5888-4d1b-f5e7-83f0bed1b4c9"
      },
      "outputs": [
        {
          "data": {
            "text/plain": [
              "5027"
            ]
          },
          "execution_count": 234,
          "metadata": {},
          "output_type": "execute_result"
        }
      ],
      "source": [
        "len(np.where(y > 80)[0])"
      ]
    },
    {
      "cell_type": "code",
      "execution_count": null,
      "id": "1315cf98-3c39-4915-a4b0-7154b30c4f46",
      "metadata": {
        "id": "1315cf98-3c39-4915-a4b0-7154b30c4f46",
        "outputId": "653ae108-a66e-4b24-a58d-a60cb8cf0b2c"
      },
      "outputs": [
        {
          "data": {
            "text/plain": [
              "49.71"
            ]
          },
          "execution_count": 235,
          "metadata": {},
          "output_type": "execute_result"
        }
      ],
      "source": [
        "100*4971/10000"
      ]
    },
    {
      "cell_type": "code",
      "execution_count": null,
      "id": "4735d92b-d2ea-4173-aaf7-35981c4a950c",
      "metadata": {
        "id": "4735d92b-d2ea-4173-aaf7-35981c4a950c",
        "outputId": "d7b8f81e-5c98-4229-9a45-1fa6592d36f3"
      },
      "outputs": [
        {
          "data": {
            "text/plain": [
              "5029"
            ]
          },
          "execution_count": 236,
          "metadata": {},
          "output_type": "execute_result"
        }
      ],
      "source": [
        "10000-4971"
      ]
    },
    {
      "cell_type": "code",
      "execution_count": null,
      "id": "2ea09925-24e8-4f40-99ae-19b26e4f1d9d",
      "metadata": {
        "id": "2ea09925-24e8-4f40-99ae-19b26e4f1d9d",
        "outputId": "2b6e7891-671a-43bd-fa7b-126331af44ab"
      },
      "outputs": [
        {
          "data": {
            "text/plain": [
              "73.0128470061332"
            ]
          },
          "execution_count": 237,
          "metadata": {},
          "output_type": "execute_result"
        }
      ],
      "source": [
        "np.percentile(y, 1)"
      ]
    },
    {
      "cell_type": "markdown",
      "id": "2e2a9124-344b-4dd4-9c99-3e06065ed232",
      "metadata": {
        "id": "2e2a9124-344b-4dd4-9c99-3e06065ed232"
      },
      "source": [
        "will contain the value at the 1st percentile of the data stored in y. This represents the value below which 1% of the data lies."
      ]
    },
    {
      "cell_type": "markdown",
      "id": "e0659b28-d754-45f7-b588-2b41db6ae1de",
      "metadata": {
        "id": "e0659b28-d754-45f7-b588-2b41db6ae1de"
      },
      "source": [
        "### Comparing Means with *t*-tests"
      ]
    },
    {
      "cell_type": "markdown",
      "id": "449bbe8b-c809-46e6-b7d1-aaf8c44e05af",
      "metadata": {
        "id": "449bbe8b-c809-46e6-b7d1-aaf8c44e05af"
      },
      "source": [
        "The **single-sample *t*-test** is a variation on the theme and is defined by:\n",
        "$$ t = \\frac{\\bar{x} - \\mu_0}{s_{\\bar{x}}} $$\n",
        "Where:\n",
        "* $\\bar{x}$ is the sample mean\n",
        "* $\\mu_0$ is a reference mean, e.g., known population mean or \"null hypothesis\" mean\n",
        "* $s_{\\bar{x}}$ is the sample standard error"
      ]
    },
    {
      "cell_type": "code",
      "execution_count": null,
      "id": "0f6dc610-6d74-4dc8-9f45-24a3d5afe8d2",
      "metadata": {
        "id": "0f6dc610-6d74-4dc8-9f45-24a3d5afe8d2"
      },
      "outputs": [],
      "source": [
        "x = [3,2,2,2,5]"
      ]
    },
    {
      "cell_type": "code",
      "execution_count": null,
      "id": "5880192d-9760-48a9-aa39-a1381817611e",
      "metadata": {
        "id": "5880192d-9760-48a9-aa39-a1381817611e",
        "outputId": "27d3a473-9460-4cad-f0b0-49f715478bcb"
      },
      "outputs": [
        {
          "data": {
            "text/plain": [
              "2.8"
            ]
          },
          "execution_count": 239,
          "metadata": {},
          "output_type": "execute_result"
        }
      ],
      "source": [
        "xbar = np.mean(x)\n",
        "xbar"
      ]
    },
    {
      "cell_type": "code",
      "execution_count": null,
      "id": "0c0f7a35-522f-4528-ab2d-461ee64dbb05",
      "metadata": {
        "id": "0c0f7a35-522f-4528-ab2d-461ee64dbb05",
        "outputId": "bc8b86ab-36a2-4861-f6c3-c486eeb4f8eb"
      },
      "outputs": [
        {
          "data": {
            "text/plain": [
              "0.58309518948453"
            ]
          },
          "execution_count": 240,
          "metadata": {},
          "output_type": "execute_result"
        }
      ],
      "source": [
        "sx = st.sem(x)\n",
        "sx"
      ]
    },
    {
      "cell_type": "code",
      "execution_count": null,
      "id": "e0ece6b5-4f7b-4919-828c-6caa641134c2",
      "metadata": {
        "id": "e0ece6b5-4f7b-4919-828c-6caa641134c2",
        "outputId": "697cf4c8-b078-46ed-ee08-83abb5459c73"
      },
      "outputs": [
        {
          "data": {
            "text/plain": [
              "-0.342997170285018"
            ]
          },
          "execution_count": 241,
          "metadata": {},
          "output_type": "execute_result"
        }
      ],
      "source": [
        "t = (xbar-3)/sx\n",
        "t"
      ]
    },
    {
      "cell_type": "code",
      "execution_count": null,
      "id": "9b45083e-ca35-4067-abb3-134c88c47af4",
      "metadata": {
        "id": "9b45083e-ca35-4067-abb3-134c88c47af4"
      },
      "outputs": [],
      "source": [
        "def p_from_t(my_t, my_n):\n",
        "    return 2 * st.t.cdf(-abs(my_t), my_n-1) # 2nd arg to t.cdf() is \"degrees of freedom\""
      ]
    },
    {
      "cell_type": "code",
      "execution_count": null,
      "id": "be6ec758-cadd-4b55-99d3-281a87bb1298",
      "metadata": {
        "id": "be6ec758-cadd-4b55-99d3-281a87bb1298",
        "outputId": "32c8c244-9574-4d87-a1e4-c80fb923eef2"
      },
      "outputs": [
        {
          "data": {
            "text/plain": [
              "0.7488684500235263"
            ]
          },
          "execution_count": 243,
          "metadata": {},
          "output_type": "execute_result"
        }
      ],
      "source": [
        "p_from_t(t, len(x))"
      ]
    },
    {
      "cell_type": "code",
      "execution_count": null,
      "id": "81a3eec2-1fd5-42f4-aede-6fc76eda1eab",
      "metadata": {
        "id": "81a3eec2-1fd5-42f4-aede-6fc76eda1eab",
        "outputId": "b262efeb-f5fb-4206-91bf-1606c50076fe"
      },
      "outputs": [
        {
          "data": {
            "text/plain": [
              "TtestResult(statistic=-0.342997170285018, pvalue=0.7488684500235263, df=4)"
            ]
          },
          "execution_count": 244,
          "metadata": {},
          "output_type": "execute_result"
        }
      ],
      "source": [
        "st.ttest_1samp(x, 3)"
      ]
    },
    {
      "cell_type": "code",
      "execution_count": null,
      "id": "06fa39e7-8468-4f5f-a58f-5f508bc4a1bd",
      "metadata": {
        "id": "06fa39e7-8468-4f5f-a58f-5f508bc4a1bd",
        "outputId": "35f12d27-f002-4a68-f5d8-e753bf040c48"
      },
      "outputs": [
        {
          "data": {
            "text/plain": [
              "(array(['AD', 'AS', 'CA', 'CH', 'DE', 'DK', 'EC', 'ES', 'FI', 'FR', 'GB',\n",
              "        'GH', 'IN', 'IT', 'LV', 'MX', 'NG', 'NL', 'PT', 'SE', 'UA', 'US'],\n",
              "       dtype=object),\n",
              " array([  1,   1,  25,   1,   6,   2,   1,  12,   1,   3,  55,   1,   5,\n",
              "          2,   2,   1,   1,   3,   1,   1,   1, 768], dtype=int64))"
            ]
          },
          "execution_count": 245,
          "metadata": {},
          "output_type": "execute_result"
        }
      ],
      "source": [
        "np.unique(mydata.company_location, return_counts=True)"
      ]
    },
    {
      "cell_type": "code",
      "execution_count": null,
      "id": "2b40d689-7e1c-4c35-831f-1ca8c4d5b4a0",
      "metadata": {
        "id": "2b40d689-7e1c-4c35-831f-1ca8c4d5b4a0"
      },
      "outputs": [],
      "source": [
        "us = mydata[mydata.company_location == 'US']"
      ]
    },
    {
      "cell_type": "code",
      "execution_count": null,
      "id": "8555be96-4643-46e7-b6e5-17b3b9c6bc32",
      "metadata": {
        "id": "8555be96-4643-46e7-b6e5-17b3b9c6bc32",
        "outputId": "009a7092-6513-4471-cfbd-45e82c5e606c"
      },
      "outputs": [
        {
          "data": {
            "text/html": [
              "<div>\n",
              "<style scoped>\n",
              "    .dataframe tbody tr th:only-of-type {\n",
              "        vertical-align: middle;\n",
              "    }\n",
              "\n",
              "    .dataframe tbody tr th {\n",
              "        vertical-align: top;\n",
              "    }\n",
              "\n",
              "    .dataframe thead th {\n",
              "        text-align: right;\n",
              "    }\n",
              "</style>\n",
              "<table border=\"1\" class=\"dataframe\">\n",
              "  <thead>\n",
              "    <tr style=\"text-align: right;\">\n",
              "      <th></th>\n",
              "      <th>work_year</th>\n",
              "      <th>employment_type</th>\n",
              "      <th>job_title</th>\n",
              "      <th>Gender</th>\n",
              "      <th>age</th>\n",
              "      <th>salary_in_usd</th>\n",
              "      <th>company_location</th>\n",
              "    </tr>\n",
              "  </thead>\n",
              "  <tbody>\n",
              "    <tr>\n",
              "      <th>4</th>\n",
              "      <td>2024</td>\n",
              "      <td>FT</td>\n",
              "      <td>Business Intelligence Lead</td>\n",
              "      <td>male</td>\n",
              "      <td>38</td>\n",
              "      <td>144300</td>\n",
              "      <td>US</td>\n",
              "    </tr>\n",
              "    <tr>\n",
              "      <th>5</th>\n",
              "      <td>2024</td>\n",
              "      <td>FT</td>\n",
              "      <td>Business Intelligence Lead</td>\n",
              "      <td>male</td>\n",
              "      <td>27</td>\n",
              "      <td>104800</td>\n",
              "      <td>US</td>\n",
              "    </tr>\n",
              "    <tr>\n",
              "      <th>6</th>\n",
              "      <td>2024</td>\n",
              "      <td>FT</td>\n",
              "      <td>Data Engineer</td>\n",
              "      <td>male</td>\n",
              "      <td>46</td>\n",
              "      <td>212750</td>\n",
              "      <td>US</td>\n",
              "    </tr>\n",
              "    <tr>\n",
              "      <th>7</th>\n",
              "      <td>2024</td>\n",
              "      <td>FT</td>\n",
              "      <td>Data Engineer</td>\n",
              "      <td>male</td>\n",
              "      <td>30</td>\n",
              "      <td>157250</td>\n",
              "      <td>US</td>\n",
              "    </tr>\n",
              "    <tr>\n",
              "      <th>8</th>\n",
              "      <td>2024</td>\n",
              "      <td>FT</td>\n",
              "      <td>Data Analyst</td>\n",
              "      <td>male</td>\n",
              "      <td>48</td>\n",
              "      <td>150000</td>\n",
              "      <td>US</td>\n",
              "    </tr>\n",
              "    <tr>\n",
              "      <th>...</th>\n",
              "      <td>...</td>\n",
              "      <td>...</td>\n",
              "      <td>...</td>\n",
              "      <td>...</td>\n",
              "      <td>...</td>\n",
              "      <td>...</td>\n",
              "      <td>...</td>\n",
              "    </tr>\n",
              "    <tr>\n",
              "      <th>888</th>\n",
              "      <td>2022</td>\n",
              "      <td>FT</td>\n",
              "      <td>Data Scientist</td>\n",
              "      <td>male</td>\n",
              "      <td>46</td>\n",
              "      <td>154000</td>\n",
              "      <td>US</td>\n",
              "    </tr>\n",
              "    <tr>\n",
              "      <th>889</th>\n",
              "      <td>2020</td>\n",
              "      <td>FT</td>\n",
              "      <td>Data Scientist</td>\n",
              "      <td>male</td>\n",
              "      <td>35</td>\n",
              "      <td>412000</td>\n",
              "      <td>US</td>\n",
              "    </tr>\n",
              "    <tr>\n",
              "      <th>890</th>\n",
              "      <td>2021</td>\n",
              "      <td>FT</td>\n",
              "      <td>Principal Data Scientist</td>\n",
              "      <td>male</td>\n",
              "      <td>28</td>\n",
              "      <td>151000</td>\n",
              "      <td>US</td>\n",
              "    </tr>\n",
              "    <tr>\n",
              "      <th>891</th>\n",
              "      <td>2020</td>\n",
              "      <td>FT</td>\n",
              "      <td>Data Scientist</td>\n",
              "      <td>male</td>\n",
              "      <td>34</td>\n",
              "      <td>105000</td>\n",
              "      <td>US</td>\n",
              "    </tr>\n",
              "    <tr>\n",
              "      <th>892</th>\n",
              "      <td>2020</td>\n",
              "      <td>PT</td>\n",
              "      <td>Business Data Analyst</td>\n",
              "      <td>female</td>\n",
              "      <td>52</td>\n",
              "      <td>100000</td>\n",
              "      <td>US</td>\n",
              "    </tr>\n",
              "  </tbody>\n",
              "</table>\n",
              "<p>768 rows × 7 columns</p>\n",
              "</div>"
            ],
            "text/plain": [
              "     work_year employment_type                   job_title  Gender  age  \\\n",
              "4         2024              FT  Business Intelligence Lead    male   38   \n",
              "5         2024              FT  Business Intelligence Lead    male   27   \n",
              "6         2024              FT               Data Engineer    male   46   \n",
              "7         2024              FT               Data Engineer    male   30   \n",
              "8         2024              FT                Data Analyst    male   48   \n",
              "..         ...             ...                         ...     ...  ...   \n",
              "888       2022              FT              Data Scientist    male   46   \n",
              "889       2020              FT              Data Scientist    male   35   \n",
              "890       2021              FT    Principal Data Scientist    male   28   \n",
              "891       2020              FT              Data Scientist    male   34   \n",
              "892       2020              PT       Business Data Analyst  female   52   \n",
              "\n",
              "     salary_in_usd company_location  \n",
              "4           144300               US  \n",
              "5           104800               US  \n",
              "6           212750               US  \n",
              "7           157250               US  \n",
              "8           150000               US  \n",
              "..             ...              ...  \n",
              "888         154000               US  \n",
              "889         412000               US  \n",
              "890         151000               US  \n",
              "891         105000               US  \n",
              "892         100000               US  \n",
              "\n",
              "[768 rows x 7 columns]"
            ]
          },
          "execution_count": 247,
          "metadata": {},
          "output_type": "execute_result"
        }
      ],
      "source": [
        "us"
      ]
    },
    {
      "cell_type": "code",
      "execution_count": null,
      "id": "720ca942-4feb-4af3-b6c1-bf64f2d8f6f8",
      "metadata": {
        "id": "720ca942-4feb-4af3-b6c1-bf64f2d8f6f8",
        "outputId": "c75d7e9c-f5f9-41a6-b78b-d9e5cbda2b03"
      },
      "outputs": [
        {
          "data": {
            "text/plain": [
              "(array(['female', 'male'], dtype=object), array([111, 657], dtype=int64))"
            ]
          },
          "execution_count": 248,
          "metadata": {},
          "output_type": "execute_result"
        }
      ],
      "source": [
        "np.unique(us.Gender, return_counts=True)"
      ]
    },
    {
      "cell_type": "code",
      "execution_count": null,
      "id": "2854192e-4365-4b6a-a678-b15812bef70b",
      "metadata": {
        "id": "2854192e-4365-4b6a-a678-b15812bef70b",
        "outputId": "97f81837-c057-4b6c-c635-7640296d1503"
      },
      "outputs": [
        {
          "data": {
            "text/plain": [
              "(20.0, 60.0)"
            ]
          },
          "execution_count": 249,
          "metadata": {},
          "output_type": "execute_result"
        },
        {
          "data": {
            "image/png": "[encoded data removed]",
            "text/plain": [
              "<Figure size 640x480 with 1 Axes>"
            ]
          },
          "metadata": {},
          "output_type": "display_data"
        }
      ],
      "source": [
        "_ = sns.boxplot(x='work_year', y='age', hue='Gender', data=us)\n",
        "plt.ylim(20, 60)"
      ]
    },
    {
      "cell_type": "code",
      "execution_count": null,
      "id": "ea2556b9-fc62-4f21-b1fa-d9cedd0c1966",
      "metadata": {
        "id": "ea2556b9-fc62-4f21-b1fa-d9cedd0c1966",
        "outputId": "f11881b3-7f72-4671-a62f-2ad848b3c0e4"
      },
      "outputs": [
        {
          "data": {
            "text/plain": [
              "(array(['FT', 'PT'], dtype=object), array([755,  13], dtype=int64))"
            ]
          },
          "execution_count": 268,
          "metadata": {},
          "output_type": "execute_result"
        }
      ],
      "source": [
        "np.unique(us.employment_type, return_counts=True)"
      ]
    },
    {
      "cell_type": "code",
      "execution_count": null,
      "id": "d25a5694-a993-4c2b-836e-8b64de06c47d",
      "metadata": {
        "id": "d25a5694-a993-4c2b-836e-8b64de06c47d",
        "outputId": "0f0d5aa1-c8db-4ea1-bd8b-bb6ff1dce285"
      },
      "outputs": [
        {
          "data": {
            "text/plain": [
              "(20.0, 60.0)"
            ]
          },
          "execution_count": 251,
          "metadata": {},
          "output_type": "execute_result"
        },
        {
          "data": {
            "image/png": "[encoded data removed]",
            "text/plain": [
              "<Figure size 640x480 with 1 Axes>"
            ]
          },
          "metadata": {},
          "output_type": "display_data"
        }
      ],
      "source": [
        "_ = sns.boxplot(x='Gender', y='age', hue='employment_type', data=us)\n",
        "plt.ylim(20, 60)"
      ]
    },
    {
      "cell_type": "code",
      "execution_count": null,
      "id": "b5926f73-0aa4-41f8-ba85-7541c2016193",
      "metadata": {
        "id": "b5926f73-0aa4-41f8-ba85-7541c2016193",
        "outputId": "3ebc63c5-9437-447d-a5a3-07ca2aedffee"
      },
      "outputs": [
        {
          "data": {
            "text/plain": [
              "array([213900, 150000, 175000, 277000, 194000, 146000, 200000,  90000,\n",
              "       130000, 135000, 304000, 108000, 310000, 180000, 135000,  81500,\n",
              "       247300, 135000, 132600, 175000, 175000,  90000, 132600,  88600,\n",
              "       167500, 150000, 127000, 132320, 135000,  90000, 180000,  74400,\n",
              "       123000, 154000, 100000, 296100, 220000, 288000,  93918, 130000,\n",
              "       247500, 172200, 142200,  65000, 172200, 205500, 160000, 142200,\n",
              "       254000, 200000,  94000,  80000, 110600, 166400, 119610, 156560,\n",
              "        65000, 156400,  59000, 144100,  81900, 130000, 184700,  51962,\n",
              "       130000, 141100, 210000, 170000, 208500, 156400, 225000, 172200,\n",
              "       110000, 193600,  87200, 267720, 167500, 172200, 222200, 222750,\n",
              "       254500, 130000, 234485, 112655, 105000, 130000,  81500, 166600,\n",
              "       204000, 212800, 209450, 101500, 110000, 166500, 310270, 139000,\n",
              "       330000, 159100, 200000, 175000, 232960, 245000, 241000, 160000,\n",
              "       185000, 213660, 195400, 135000, 190000, 190000, 100000],\n",
              "      dtype=int64)"
            ]
          },
          "execution_count": 252,
          "metadata": {},
          "output_type": "execute_result"
        }
      ],
      "source": [
        "f = us[us.Gender == 'female']['salary_in_usd'].to_numpy()\n",
        "f"
      ]
    },
    {
      "cell_type": "code",
      "execution_count": null,
      "id": "ae4b4afd-3824-4a1c-a59f-cf590ccaecc3",
      "metadata": {
        "id": "ae4b4afd-3824-4a1c-a59f-cf590ccaecc3",
        "outputId": "e495050f-d91c-40e0-bc13-aeb41bbe3feb"
      },
      "outputs": [
        {
          "data": {
            "text/plain": [
              "array([144300, 104800, 212750, 157250, 150000, 129200, 265000, 170000,\n",
              "       190000, 155000, 165000, 100000, 126500, 130000, 104000, 225000,\n",
              "        66000, 220000, 110000,  85000, 282000, 188000, 219650, 136000,\n",
              "       210850, 145400, 143800, 106300,  90200, 140000, 110000, 140000,\n",
              "       120000, 138000,  86000, 199700,  70800, 130000, 169847, 131631,\n",
              "       173000, 264500, 165600, 168000,  90000,  70000, 137000,  60400,\n",
              "       197689, 152311, 209500, 147500, 170000, 220600, 140100, 236872,\n",
              "       148045, 143896,  99208, 250000, 160000,  25000, 137500,  81500,\n",
              "       209700, 161300, 249000, 216000, 170040, 113360, 178250, 110500,\n",
              "        83300,  47500, 200000, 148500, 138000, 120000, 250000, 200000,\n",
              "       110000, 142000, 129500, 210554, 131596, 170000, 159550, 113000,\n",
              "       100000, 245400, 139000, 190000, 167000, 244000,  62500,  55000,\n",
              "       247600, 127300, 210000, 170000, 222200, 136000, 200000, 151300,\n",
              "       110000,  90000, 156000,  94000, 212800, 124100, 195000, 140000,\n",
              "       130000, 240000, 180000, 170200,  83900, 210000, 165000, 300000,\n",
              "       150000, 300000, 150000, 212800, 111600, 213600, 103200, 308000,\n",
              "       190400, 204000, 127500, 250000, 125000, 385000, 310000, 120000,\n",
              "        88000, 158000, 385000, 247300, 139700, 240000, 130000, 101570,\n",
              "       210000, 165000, 170200,  83900, 222200, 136000, 169000,  91000,\n",
              "       110000, 150000, 130000, 128000, 306000, 204000, 185900, 129300,\n",
              "       204500, 142200, 270000, 200000, 204500, 142200, 188600, 111550,\n",
              "       230000, 160000, 139700, 360000, 240000, 129100, 111400, 110000,\n",
              "       214500, 120000, 100000, 242921, 170045, 225000, 180000, 162000,\n",
              "       156450, 119200, 245000, 185000, 214500, 154800,  76300, 178600,\n",
              "       248100, 145900,  93919,  51962, 207345, 180300, 200000, 140000,\n",
              "       205000, 140000, 110000, 228045, 198300, 140000, 100000,  75000,\n",
              "       100000,  75000, 140000, 100000, 125000, 120000,  99000, 130000,\n",
              "       120000, 194500, 223602, 143520, 180000, 140000, 162000, 120350,\n",
              "       185000, 140000,  90000, 214500, 132600, 103000,  90000,  80000,\n",
              "       140000, 170000, 100000, 115000, 105000, 144500, 187000, 152000,\n",
              "       138000,  92000, 160000,  51962, 189750, 145000, 225500, 139400,\n",
              "        95000, 359170, 310270, 252000, 140000,  87500,  62500, 204500,\n",
              "       138000,  92000, 273000, 166500,  45000, 180000, 150000, 174000,\n",
              "       139000, 212800, 124100, 247500, 228830, 148590, 140000, 220000,\n",
              "       170000, 169000, 110600, 247300, 139700, 132500,  75000,  65000,\n",
              "       121000,  78000, 145000, 204500, 138900, 204500, 160000, 120000,\n",
              "       228000, 136000, 233300, 155500,  81900, 190000, 140000, 208000,\n",
              "       109500, 240000, 238530,  95000,  82000,  70000, 155000, 130000,\n",
              "       169000, 190000, 150000, 154700, 118900, 232960, 156000, 105000,\n",
              "       190000, 140000, 138860, 205485, 230000, 175000, 265000, 153000,\n",
              "       260000, 170000, 105000, 157550, 104650, 225000, 150000, 125000,\n",
              "       100000, 225000, 156400,  89100, 185900, 129300, 177000, 110000,\n",
              "       140000, 100000, 145000, 115000, 193600, 119700,  94000, 164000,\n",
              "       190000, 140000, 323300, 180000, 120000,  93918, 150000, 104000,\n",
              "        86000, 201000, 122000, 110000,  90000,  94100, 165000, 185900,\n",
              "       129300, 140000, 126000, 130000, 165000, 169000, 110600, 185900,\n",
              "       129300, 225000, 309000, 142000, 156400, 204500, 138900, 185900,\n",
              "       129300, 323300, 184700, 247500, 204500, 142200, 135000, 118800,\n",
              "        75000, 145000, 130000, 119700, 130800, 215000, 150000, 247500,\n",
              "       172200, 204500, 331640, 150000, 100000, 126500,  78000, 126500,\n",
              "        78000, 106500, 105000,  70000,  96000,  72000, 323300, 184700,\n",
              "       205150, 167850, 267100, 167200, 247500, 130000, 110000, 253000,\n",
              "       156400, 136000, 278700, 159300, 182250, 215000, 185000, 296400,\n",
              "       148594, 206000, 140250, 130900, 198000, 124000, 145000, 296400,\n",
              "       148594, 222200, 136000, 200000, 150000, 125000, 184184, 167441,\n",
              "       204500,  90000,  84000, 136000, 104000, 202400, 147200,  80000,\n",
              "        52500, 128000, 105000,  75000,  95000,  75000, 167500, 106500,\n",
              "       139500,  90000, 269500, 330000, 252000, 129000, 180000, 165000,\n",
              "       192000, 142000, 143000, 129000, 191000, 146000,  85000,  70000,\n",
              "       155000, 139500, 138860, 122720, 144800, 250000, 100000, 167560,\n",
              "       172900, 144100, 230000, 175000, 160000, 135000, 150000, 110000,\n",
              "        83700, 310270, 253430, 202800, 104300,  70000, 283000, 184000,\n",
              "       113220, 220000, 185000, 260000, 225000, 246500, 133500, 331640,\n",
              "       283780, 331640, 283780, 174000, 134000, 359170, 331640, 283780,\n",
              "       359170, 295490, 189110, 230000, 254000, 200000, 309400, 331640,\n",
              "       267720, 283780, 218540, 167000, 109000, 208000, 193000, 359170,\n",
              "       295490, 216000, 184000, 145000, 250000, 166600, 284000, 227000,\n",
              "       205000, 160000, 191400, 127600, 222200, 136000, 191400, 127600,\n",
              "       230000, 139600,  85700,  95000,  70000, 258000, 171000, 204500,\n",
              "       126400, 300000, 151840, 163152, 108768, 370000, 285000, 193900,\n",
              "       240000, 163200, 222000, 166500, 240000, 163200, 345000, 234700,\n",
              "       100000, 226600, 140100, 155000, 210000,  90000,  84000, 140000,\n",
              "       221300, 147500, 204500, 130000, 210000, 160000, 204500, 142200,\n",
              "       186600, 119800, 192000, 151000,  79600, 169000, 129300, 204500,\n",
              "       142200, 280700, 150450, 250500, 159500, 145000, 115000, 140000,\n",
              "       120000, 130001,  71907,  93918,  51962,  85000,  65000, 257000,\n",
              "       147000, 222000, 175000, 203000, 133200, 130760, 221000, 147000,\n",
              "       100000,  80000, 185900, 195700, 130500, 130000,  84000, 100000,\n",
              "        60000, 141300, 102100, 150000, 144000, 113000, 131300, 195400,\n",
              "       131300, 195400, 131300, 190000, 135000,  80000, 160000,  85000,\n",
              "       178800, 132100,  60000, 140000, 105000, 140000, 100000,  60000,\n",
              "       180000, 165000, 108000, 135000, 179400, 154000, 412000, 151000,\n",
              "       105000], dtype=int64)"
            ]
          },
          "execution_count": 253,
          "metadata": {},
          "output_type": "execute_result"
        }
      ],
      "source": [
        "m = us[us.Gender == 'male']['salary_in_usd'].to_numpy()\n",
        "m"
      ]
    },
    {
      "cell_type": "code",
      "execution_count": null,
      "id": "4da07b4a-ddc2-43f4-a413-664d9436128c",
      "metadata": {
        "id": "4da07b4a-ddc2-43f4-a413-664d9436128c",
        "outputId": "c3874589-06ad-470c-b349-5e666d7073a5"
      },
      "outputs": [
        {
          "data": {
            "text/plain": [
              "164905.5855855856"
            ]
          },
          "execution_count": 254,
          "metadata": {},
          "output_type": "execute_result"
        }
      ],
      "source": [
        "fbar = f.mean()\n",
        "fbar"
      ]
    },
    {
      "cell_type": "code",
      "execution_count": null,
      "id": "c71b9ef6-5da7-4df0-a00d-3deaed89887f",
      "metadata": {
        "id": "c71b9ef6-5da7-4df0-a00d-3deaed89887f",
        "outputId": "ea57d024-a6ce-4071-d49f-f8bcc68bdf2c"
      },
      "outputs": [
        {
          "data": {
            "text/plain": [
              "164532.97412480973"
            ]
          },
          "execution_count": 255,
          "metadata": {},
          "output_type": "execute_result"
        }
      ],
      "source": [
        "mbar = m.mean()\n",
        "mbar"
      ]
    },
    {
      "cell_type": "markdown",
      "id": "9c17352a-b7d7-476f-a7bc-e07ae9879b6b",
      "metadata": {
        "id": "9c17352a-b7d7-476f-a7bc-e07ae9879b6b"
      },
      "source": [
        "To quantify whether males salaries significantly more than females, we can use the **Welch *t*-test**, devised by the 20th c. British statistician Bernard Lewis Welch:\n",
        "$$ t = \\frac{\\bar{x} - \\bar{y}}{\\sqrt{\\frac{s^2_x}{n_x} + \\frac{s^2_y}{n_y}}} $$\n",
        "Where:\n",
        "* $\\bar{x}$ and $\\bar{y}$ are the sample means\n",
        "* $s^2_x$ and $s^2_y$ are the sample variances\n",
        "* $n_x$ and $n_y$ are the sample sizes"
      ]
    },
    {
      "cell_type": "code",
      "execution_count": null,
      "id": "5486d738-3924-4def-a098-c0bd821174a7",
      "metadata": {
        "id": "5486d738-3924-4def-a098-c0bd821174a7"
      },
      "outputs": [],
      "source": [
        "sf = f.var(ddof=1)\n",
        "sm = m.var(ddof=1)"
      ]
    },
    {
      "cell_type": "markdown",
      "id": "bc56e49f-d23b-4322-9f1d-17ee20808693",
      "metadata": {
        "id": "bc56e49f-d23b-4322-9f1d-17ee20808693"
      },
      "source": [
        "$$\n",
        "s^2 = \\frac{1}{n-1} \\sum_{i=1}^{n} (x_i - \\bar{x})^2\n",
        "$$"
      ]
    },
    {
      "cell_type": "code",
      "execution_count": null,
      "id": "c6bc5543-c6fa-4946-8336-de8b956df3dc",
      "metadata": {
        "id": "c6bc5543-c6fa-4946-8336-de8b956df3dc"
      },
      "outputs": [],
      "source": [
        "nf = f.size\n",
        "nm = m.size"
      ]
    },
    {
      "cell_type": "code",
      "execution_count": null,
      "id": "f54c3d62-ed74-407c-9551-8f883d28f9f9",
      "metadata": {
        "id": "f54c3d62-ed74-407c-9551-8f883d28f9f9",
        "outputId": "893031c5-77bc-424f-b335-f879ebd5b015"
      },
      "outputs": [
        {
          "data": {
            "text/plain": [
              "0.05909317298665107"
            ]
          },
          "execution_count": 258,
          "metadata": {},
          "output_type": "execute_result"
        }
      ],
      "source": [
        "t = (fbar-mbar)/(sf/nf + sm/nm)**(1/2)\n",
        "t"
      ]
    },
    {
      "cell_type": "markdown",
      "id": "f99ef7b8-6b67-45d4-a4aa-c9da69169f82",
      "metadata": {
        "id": "f99ef7b8-6b67-45d4-a4aa-c9da69169f82"
      },
      "source": [
        "Degrees of freedom for calculating the *p*-value are estimated using the [Welch–Satterthwaite equation](https://en.wikipedia.org/wiki/Welch–Satterthwaite_equation), which we won't detail but is defined as:"
      ]
    },
    {
      "cell_type": "code",
      "execution_count": null,
      "id": "11ae5248-7830-4f76-9b7c-cfecd67ab691",
      "metadata": {
        "id": "11ae5248-7830-4f76-9b7c-cfecd67ab691"
      },
      "outputs": [],
      "source": [
        "def ws_eqn(sx, sy, nx, ny):\n",
        "    return (sx / nx + sy / ny)**2 / (sx**2 / (nx**2 * (nx - 1)) + sy**2 / (ny**2 * (ny - 1)))"
      ]
    },
    {
      "cell_type": "code",
      "execution_count": null,
      "id": "3387b20d-c297-43ff-9d75-9f27e46b04eb",
      "metadata": {
        "id": "3387b20d-c297-43ff-9d75-9f27e46b04eb",
        "outputId": "b341bc80-36af-4973-fff0-7aaf4d901c23"
      },
      "outputs": [
        {
          "data": {
            "text/plain": [
              "154.48485600274873"
            ]
          },
          "execution_count": 260,
          "metadata": {},
          "output_type": "execute_result"
        }
      ],
      "source": [
        "df = ws_eqn(sf, sm, nf, nm)\n",
        "df"
      ]
    },
    {
      "cell_type": "code",
      "execution_count": null,
      "id": "05f3beb8-a143-44d5-aafb-564213aaee54",
      "metadata": {
        "id": "05f3beb8-a143-44d5-aafb-564213aaee54",
        "outputId": "15d1fd51-b73b-4971-ef71-a8eb99fcb570"
      },
      "outputs": [
        {
          "data": {
            "text/plain": [
              "0.9529542679100504"
            ]
          },
          "execution_count": 264,
          "metadata": {},
          "output_type": "execute_result"
        }
      ],
      "source": [
        "p = 2 * st.t.cdf(-abs(t), df) # or p_from_t(t, df+1)\n",
        "p"
      ]
    },
    {
      "cell_type": "code",
      "execution_count": null,
      "id": "cd772a9d-ad31-4dc6-9851-528906c7471c",
      "metadata": {
        "id": "cd772a9d-ad31-4dc6-9851-528906c7471c",
        "outputId": "4ba77cfa-06e2-4087-e9e7-fc9336caccb7"
      },
      "outputs": [
        {
          "data": {
            "text/plain": [
              "0.9529542679100504"
            ]
          },
          "execution_count": 265,
          "metadata": {},
          "output_type": "execute_result"
        }
      ],
      "source": [
        "p_from_t(t, df+1)"
      ]
    },
    {
      "cell_type": "code",
      "execution_count": null,
      "id": "fd02dead-b28c-412a-951a-016371074485",
      "metadata": {
        "id": "fd02dead-b28c-412a-951a-016371074485",
        "outputId": "6ddc7f24-3969-4aaf-965b-44530a3a369b"
      },
      "outputs": [
        {
          "data": {
            "text/plain": [
              "0.02092794056930297"
            ]
          },
          "execution_count": 266,
          "metadata": {},
          "output_type": "execute_result"
        }
      ],
      "source": [
        "-np.log10(p)"
      ]
    },
    {
      "cell_type": "code",
      "execution_count": null,
      "id": "110a4028-578b-4985-afbb-2b7a2f54e5bc",
      "metadata": {
        "id": "110a4028-578b-4985-afbb-2b7a2f54e5bc",
        "outputId": "deb9ca5f-c159-440a-c16c-5b7f8aa47a64"
      },
      "outputs": [
        {
          "data": {
            "text/plain": [
              "TtestResult(statistic=0.05909317298665107, pvalue=0.9529542679100504, df=154.48485600274873)"
            ]
          },
          "execution_count": 267,
          "metadata": {},
          "output_type": "execute_result"
        }
      ],
      "source": [
        "st.ttest_ind(f, m, equal_var=False)"
      ]
    },
    {
      "cell_type": "code",
      "execution_count": null,
      "id": "60c3e8c6-2bb7-4b36-b903-46a819264a00",
      "metadata": {
        "id": "60c3e8c6-2bb7-4b36-b903-46a819264a00"
      },
      "outputs": [],
      "source": []
    }
  ],
  "metadata": {
    "kernelspec": {
      "display_name": "Python 3 (ipykernel)",
      "language": "python",
      "name": "python3"
    },
    "language_info": {
      "codemirror_mode": {
        "name": "ipython",
        "version": 3
      },
      "file_extension": ".py",
      "mimetype": "text/x-python",
      "name": "python",
      "nbconvert_exporter": "python",
      "pygments_lexer": "ipython3",
      "version": "3.11.7"
    },
    "colab": {
      "provenance": []
    }
  },
  "nbformat": 4,
  "nbformat_minor": 5
}